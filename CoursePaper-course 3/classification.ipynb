{
 "cells": [
  {
   "cell_type": "markdown",
   "id": "AOd9Bcey0SMU",
   "metadata": {
    "id": "AOd9Bcey0SMU"
   },
   "source": [
    "\n",
    "\n",
    "# **Классификация паролей пользователей по стойкости к взлому**\n",
    "\n",
    "---\n",
    "\n",
    "На основе: “Password Strength Classifier Dataset” - https://www.kaggle.com/datasets/bhavikbb/password-strength-classifier-dataset"
   ]
  },
  {
   "cell_type": "code",
   "execution_count": 1,
   "id": "f18e4f61",
   "metadata": {
    "id": "f18e4f61"
   },
   "outputs": [],
   "source": [
    "import pandas as pd\n",
    "import numpy as np\n",
    "import re\n",
    "from sklearn.feature_extraction.text import TfidfVectorizer\n",
    "from sklearn.model_selection import train_test_split\n",
    "from sklearn.ensemble import RandomForestClassifier\n",
    "from sklearn.metrics import accuracy_score\n",
    "from sklearn.preprocessing import LabelEncoder\n",
    "import torch\n",
    "from torch.utils.data import Dataset, DataLoader\n",
    "import torch.nn as nn\n",
    "import torch.optim as optim\n",
    "from sklearn.metrics import confusion_matrix, classification_report, roc_auc_score\n",
    "from tqdm.notebook import tqdm, trange\n",
    "import matplotlib.pyplot as plt\n",
    "from sklearn.feature_selection import chi2\n",
    "import seaborn as sns\n",
    "from itertools import product\n",
    "from time import time"
   ]
  },
  {
   "cell_type": "markdown",
   "id": "6203bb18",
   "metadata": {
    "id": "6203bb18"
   },
   "source": [
    "## Загрузка датасета"
   ]
  },
  {
   "cell_type": "code",
   "execution_count": 2,
   "id": "a87f5847",
   "metadata": {
    "id": "a87f5847"
   },
   "outputs": [],
   "source": [
    "df = pd.read_csv('data.csv', on_bad_lines='skip')"
   ]
  },
  {
   "cell_type": "code",
   "execution_count": 3,
   "id": "7c415cad",
   "metadata": {
    "colab": {
     "base_uri": "https://localhost:8080/",
     "height": 423
    },
    "id": "7c415cad",
    "outputId": "4c8f2d0d-cc4d-479b-fd30-0067421b9497"
   },
   "outputs": [
    {
     "data": {
      "text/html": [
       "<div>\n",
       "<style scoped>\n",
       "    .dataframe tbody tr th:only-of-type {\n",
       "        vertical-align: middle;\n",
       "    }\n",
       "\n",
       "    .dataframe tbody tr th {\n",
       "        vertical-align: top;\n",
       "    }\n",
       "\n",
       "    .dataframe thead th {\n",
       "        text-align: right;\n",
       "    }\n",
       "</style>\n",
       "<table border=\"1\" class=\"dataframe\">\n",
       "  <thead>\n",
       "    <tr style=\"text-align: right;\">\n",
       "      <th></th>\n",
       "      <th>password</th>\n",
       "      <th>strength</th>\n",
       "    </tr>\n",
       "  </thead>\n",
       "  <tbody>\n",
       "    <tr>\n",
       "      <th>0</th>\n",
       "      <td>kzde5577</td>\n",
       "      <td>1</td>\n",
       "    </tr>\n",
       "    <tr>\n",
       "      <th>1</th>\n",
       "      <td>kino3434</td>\n",
       "      <td>1</td>\n",
       "    </tr>\n",
       "    <tr>\n",
       "      <th>2</th>\n",
       "      <td>visi7k1yr</td>\n",
       "      <td>1</td>\n",
       "    </tr>\n",
       "    <tr>\n",
       "      <th>3</th>\n",
       "      <td>megzy123</td>\n",
       "      <td>1</td>\n",
       "    </tr>\n",
       "    <tr>\n",
       "      <th>4</th>\n",
       "      <td>lamborghin1</td>\n",
       "      <td>1</td>\n",
       "    </tr>\n",
       "    <tr>\n",
       "      <th>...</th>\n",
       "      <td>...</td>\n",
       "      <td>...</td>\n",
       "    </tr>\n",
       "    <tr>\n",
       "      <th>669635</th>\n",
       "      <td>10redtux10</td>\n",
       "      <td>1</td>\n",
       "    </tr>\n",
       "    <tr>\n",
       "      <th>669636</th>\n",
       "      <td>infrared1</td>\n",
       "      <td>1</td>\n",
       "    </tr>\n",
       "    <tr>\n",
       "      <th>669637</th>\n",
       "      <td>184520socram</td>\n",
       "      <td>1</td>\n",
       "    </tr>\n",
       "    <tr>\n",
       "      <th>669638</th>\n",
       "      <td>marken22a</td>\n",
       "      <td>1</td>\n",
       "    </tr>\n",
       "    <tr>\n",
       "      <th>669639</th>\n",
       "      <td>fxx4pw4g</td>\n",
       "      <td>1</td>\n",
       "    </tr>\n",
       "  </tbody>\n",
       "</table>\n",
       "<p>669640 rows × 2 columns</p>\n",
       "</div>"
      ],
      "text/plain": [
       "            password  strength\n",
       "0           kzde5577         1\n",
       "1           kino3434         1\n",
       "2          visi7k1yr         1\n",
       "3           megzy123         1\n",
       "4        lamborghin1         1\n",
       "...              ...       ...\n",
       "669635    10redtux10         1\n",
       "669636     infrared1         1\n",
       "669637  184520socram         1\n",
       "669638     marken22a         1\n",
       "669639      fxx4pw4g         1\n",
       "\n",
       "[669640 rows x 2 columns]"
      ]
     },
     "execution_count": 3,
     "metadata": {},
     "output_type": "execute_result"
    }
   ],
   "source": [
    "df"
   ]
  },
  {
   "cell_type": "code",
   "execution_count": 6,
   "id": "1fbe0cc9",
   "metadata": {
    "id": "1fbe0cc9"
   },
   "outputs": [],
   "source": [
    "pd.options.mode.chained_assignment = None"
   ]
  },
  {
   "cell_type": "markdown",
   "id": "ac2ec940",
   "metadata": {
    "id": "ac2ec940"
   },
   "source": [
    "## Анализ"
   ]
  },
  {
   "cell_type": "markdown",
   "id": "11efa54e",
   "metadata": {
    "id": "11efa54e"
   },
   "source": [
    "### Определение факторов"
   ]
  },
  {
   "cell_type": "code",
   "execution_count": null,
   "id": "2bd8b6a7",
   "metadata": {
    "id": "2bd8b6a7",
    "outputId": "c2b37649-f6fd-43d3-a3e9-d015fb88be49",
    "scrolled": false
   },
   "outputs": [
    {
     "data": {
      "text/html": [
       "<div>\n",
       "<style scoped>\n",
       "    .dataframe tbody tr th:only-of-type {\n",
       "        vertical-align: middle;\n",
       "    }\n",
       "\n",
       "    .dataframe tbody tr th {\n",
       "        vertical-align: top;\n",
       "    }\n",
       "\n",
       "    .dataframe thead th {\n",
       "        text-align: right;\n",
       "    }\n",
       "</style>\n",
       "<table border=\"1\" class=\"dataframe\">\n",
       "  <thead>\n",
       "    <tr style=\"text-align: right;\">\n",
       "      <th></th>\n",
       "      <th>password</th>\n",
       "      <th>strength</th>\n",
       "      <th>length</th>\n",
       "      <th>lower_freq</th>\n",
       "      <th>upper_freq</th>\n",
       "      <th>digit_freq</th>\n",
       "      <th>special_freq</th>\n",
       "    </tr>\n",
       "  </thead>\n",
       "  <tbody>\n",
       "    <tr>\n",
       "      <th>0</th>\n",
       "      <td>kzde5577</td>\n",
       "      <td>1</td>\n",
       "      <td>8</td>\n",
       "      <td>0.500000</td>\n",
       "      <td>0.0</td>\n",
       "      <td>0.500000</td>\n",
       "      <td>0.0</td>\n",
       "    </tr>\n",
       "    <tr>\n",
       "      <th>1</th>\n",
       "      <td>kino3434</td>\n",
       "      <td>1</td>\n",
       "      <td>8</td>\n",
       "      <td>0.500000</td>\n",
       "      <td>0.0</td>\n",
       "      <td>0.500000</td>\n",
       "      <td>0.0</td>\n",
       "    </tr>\n",
       "    <tr>\n",
       "      <th>2</th>\n",
       "      <td>visi7k1yr</td>\n",
       "      <td>1</td>\n",
       "      <td>9</td>\n",
       "      <td>0.777778</td>\n",
       "      <td>0.0</td>\n",
       "      <td>0.222222</td>\n",
       "      <td>0.0</td>\n",
       "    </tr>\n",
       "    <tr>\n",
       "      <th>3</th>\n",
       "      <td>megzy123</td>\n",
       "      <td>1</td>\n",
       "      <td>8</td>\n",
       "      <td>0.625000</td>\n",
       "      <td>0.0</td>\n",
       "      <td>0.375000</td>\n",
       "      <td>0.0</td>\n",
       "    </tr>\n",
       "    <tr>\n",
       "      <th>4</th>\n",
       "      <td>lamborghin1</td>\n",
       "      <td>1</td>\n",
       "      <td>11</td>\n",
       "      <td>0.909091</td>\n",
       "      <td>0.0</td>\n",
       "      <td>0.090909</td>\n",
       "      <td>0.0</td>\n",
       "    </tr>\n",
       "    <tr>\n",
       "      <th>...</th>\n",
       "      <td>...</td>\n",
       "      <td>...</td>\n",
       "      <td>...</td>\n",
       "      <td>...</td>\n",
       "      <td>...</td>\n",
       "      <td>...</td>\n",
       "      <td>...</td>\n",
       "    </tr>\n",
       "    <tr>\n",
       "      <th>669635</th>\n",
       "      <td>10redtux10</td>\n",
       "      <td>1</td>\n",
       "      <td>10</td>\n",
       "      <td>0.600000</td>\n",
       "      <td>0.0</td>\n",
       "      <td>0.400000</td>\n",
       "      <td>0.0</td>\n",
       "    </tr>\n",
       "    <tr>\n",
       "      <th>669636</th>\n",
       "      <td>infrared1</td>\n",
       "      <td>1</td>\n",
       "      <td>9</td>\n",
       "      <td>0.888889</td>\n",
       "      <td>0.0</td>\n",
       "      <td>0.111111</td>\n",
       "      <td>0.0</td>\n",
       "    </tr>\n",
       "    <tr>\n",
       "      <th>669637</th>\n",
       "      <td>184520socram</td>\n",
       "      <td>1</td>\n",
       "      <td>12</td>\n",
       "      <td>0.500000</td>\n",
       "      <td>0.0</td>\n",
       "      <td>0.500000</td>\n",
       "      <td>0.0</td>\n",
       "    </tr>\n",
       "    <tr>\n",
       "      <th>669638</th>\n",
       "      <td>marken22a</td>\n",
       "      <td>1</td>\n",
       "      <td>9</td>\n",
       "      <td>0.777778</td>\n",
       "      <td>0.0</td>\n",
       "      <td>0.222222</td>\n",
       "      <td>0.0</td>\n",
       "    </tr>\n",
       "    <tr>\n",
       "      <th>669639</th>\n",
       "      <td>fxx4pw4g</td>\n",
       "      <td>1</td>\n",
       "      <td>8</td>\n",
       "      <td>0.750000</td>\n",
       "      <td>0.0</td>\n",
       "      <td>0.250000</td>\n",
       "      <td>0.0</td>\n",
       "    </tr>\n",
       "  </tbody>\n",
       "</table>\n",
       "<p>669639 rows × 7 columns</p>\n",
       "</div>"
      ],
      "text/plain": [
       "            password  strength  length  lower_freq  upper_freq  digit_freq  \\\n",
       "0           kzde5577         1       8    0.500000         0.0    0.500000   \n",
       "1           kino3434         1       8    0.500000         0.0    0.500000   \n",
       "2          visi7k1yr         1       9    0.777778         0.0    0.222222   \n",
       "3           megzy123         1       8    0.625000         0.0    0.375000   \n",
       "4        lamborghin1         1      11    0.909091         0.0    0.090909   \n",
       "...              ...       ...     ...         ...         ...         ...   \n",
       "669635    10redtux10         1      10    0.600000         0.0    0.400000   \n",
       "669636     infrared1         1       9    0.888889         0.0    0.111111   \n",
       "669637  184520socram         1      12    0.500000         0.0    0.500000   \n",
       "669638     marken22a         1       9    0.777778         0.0    0.222222   \n",
       "669639      fxx4pw4g         1       8    0.750000         0.0    0.250000   \n",
       "\n",
       "        special_freq  \n",
       "0                0.0  \n",
       "1                0.0  \n",
       "2                0.0  \n",
       "3                0.0  \n",
       "4                0.0  \n",
       "...              ...  \n",
       "669635           0.0  \n",
       "669636           0.0  \n",
       "669637           0.0  \n",
       "669638           0.0  \n",
       "669639           0.0  \n",
       "\n",
       "[669639 rows x 7 columns]"
      ]
     },
     "execution_count": 9,
     "metadata": {},
     "output_type": "execute_result"
    }
   ],
   "source": [
    "df['length'] = [len(i) for i in df['password']]\n",
    "\n",
    "df['lower_freq'] = [len([j for j in i if j.islower()]) / len(i) for i in df['password']]\n",
    "\n",
    "df['upper_freq'] = [len([j for j in i if j.isupper()]) / len(i) for i in df['password']]\n",
    "\n",
    "df['digit_freq'] = [len([j for j in i if j.isdigit()]) / len(i) for i in df['password']]\n",
    "\n",
    "df['special_freq'] = [len([j for j in i if not j.isdigit() and not j.isalpha()]) / len(i) for i in df['password']]\n",
    "\n",
    "df"
   ]
  },
  {
   "cell_type": "code",
   "execution_count": null,
   "id": "dbb462fa",
   "metadata": {
    "id": "dbb462fa"
   },
   "outputs": [],
   "source": [
    "df['identical_freq'] = [(re.match('([a-z\\\\d])\\\\1\\\\1\\\\1\\\\1\\\\1\\\\1\\\\1+', i) is not None) for i in df['password']]"
   ]
  },
  {
   "cell_type": "code",
   "execution_count": null,
   "id": "a530faa0",
   "metadata": {
    "id": "a530faa0",
    "outputId": "79c19db2-d3d5-4282-ea75-c33bf29c7d22"
   },
   "outputs": [
    {
     "data": {
      "text/html": [
       "<div>\n",
       "<style scoped>\n",
       "    .dataframe tbody tr th:only-of-type {\n",
       "        vertical-align: middle;\n",
       "    }\n",
       "\n",
       "    .dataframe tbody tr th {\n",
       "        vertical-align: top;\n",
       "    }\n",
       "\n",
       "    .dataframe thead th {\n",
       "        text-align: right;\n",
       "    }\n",
       "</style>\n",
       "<table border=\"1\" class=\"dataframe\">\n",
       "  <thead>\n",
       "    <tr style=\"text-align: right;\">\n",
       "      <th></th>\n",
       "      <th>password</th>\n",
       "      <th>identical_freq</th>\n",
       "    </tr>\n",
       "  </thead>\n",
       "  <tbody>\n",
       "    <tr>\n",
       "      <th>0</th>\n",
       "      <td>kzde5577</td>\n",
       "      <td>False</td>\n",
       "    </tr>\n",
       "    <tr>\n",
       "      <th>1</th>\n",
       "      <td>kino3434</td>\n",
       "      <td>False</td>\n",
       "    </tr>\n",
       "    <tr>\n",
       "      <th>2</th>\n",
       "      <td>visi7k1yr</td>\n",
       "      <td>False</td>\n",
       "    </tr>\n",
       "    <tr>\n",
       "      <th>3</th>\n",
       "      <td>megzy123</td>\n",
       "      <td>False</td>\n",
       "    </tr>\n",
       "    <tr>\n",
       "      <th>4</th>\n",
       "      <td>lamborghin1</td>\n",
       "      <td>False</td>\n",
       "    </tr>\n",
       "    <tr>\n",
       "      <th>...</th>\n",
       "      <td>...</td>\n",
       "      <td>...</td>\n",
       "    </tr>\n",
       "    <tr>\n",
       "      <th>669635</th>\n",
       "      <td>10redtux10</td>\n",
       "      <td>False</td>\n",
       "    </tr>\n",
       "    <tr>\n",
       "      <th>669636</th>\n",
       "      <td>infrared1</td>\n",
       "      <td>False</td>\n",
       "    </tr>\n",
       "    <tr>\n",
       "      <th>669637</th>\n",
       "      <td>184520socram</td>\n",
       "      <td>False</td>\n",
       "    </tr>\n",
       "    <tr>\n",
       "      <th>669638</th>\n",
       "      <td>marken22a</td>\n",
       "      <td>False</td>\n",
       "    </tr>\n",
       "    <tr>\n",
       "      <th>669639</th>\n",
       "      <td>fxx4pw4g</td>\n",
       "      <td>False</td>\n",
       "    </tr>\n",
       "  </tbody>\n",
       "</table>\n",
       "<p>669639 rows × 2 columns</p>\n",
       "</div>"
      ],
      "text/plain": [
       "            password  identical_freq\n",
       "0           kzde5577           False\n",
       "1           kino3434           False\n",
       "2          visi7k1yr           False\n",
       "3           megzy123           False\n",
       "4        lamborghin1           False\n",
       "...              ...             ...\n",
       "669635    10redtux10           False\n",
       "669636     infrared1           False\n",
       "669637  184520socram           False\n",
       "669638     marken22a           False\n",
       "669639      fxx4pw4g           False\n",
       "\n",
       "[669639 rows x 2 columns]"
      ]
     },
     "execution_count": 27,
     "metadata": {},
     "output_type": "execute_result"
    }
   ],
   "source": [
    "df[df.columns[0::7]]"
   ]
  },
  {
   "cell_type": "code",
   "execution_count": null,
   "id": "8183ce82",
   "metadata": {
    "id": "8183ce82",
    "outputId": "6437df6f-3f97-472e-a65e-2a7f38bc3f7f"
   },
   "outputs": [
    {
     "data": {
      "text/plain": [
       "(array([5.9143319]), array([0.05196598]))"
      ]
     },
     "execution_count": 14,
     "metadata": {},
     "output_type": "execute_result"
    }
   ],
   "source": [
    "chi2(df['identical_freq'].values.reshape(-1, 1), df['strength'].values)"
   ]
  },
  {
   "cell_type": "code",
   "execution_count": null,
   "id": "beda33bd",
   "metadata": {
    "id": "beda33bd"
   },
   "outputs": [],
   "source": [
    "df['type_breaks'] = [len(re.findall('[aA-zZ]+',i)) + len(re.findall('[\\W]+', i)) + len(re.findall('[0-9]+', i)) - 1 for i in df['password']]"
   ]
  },
  {
   "cell_type": "code",
   "execution_count": null,
   "id": "5a04d0d8",
   "metadata": {
    "id": "5a04d0d8",
    "outputId": "15ea6181-4d66-4a9b-a311-1c362b7f4b63"
   },
   "outputs": [
    {
     "data": {
      "text/html": [
       "<div>\n",
       "<style scoped>\n",
       "    .dataframe tbody tr th:only-of-type {\n",
       "        vertical-align: middle;\n",
       "    }\n",
       "\n",
       "    .dataframe tbody tr th {\n",
       "        vertical-align: top;\n",
       "    }\n",
       "\n",
       "    .dataframe thead th {\n",
       "        text-align: right;\n",
       "    }\n",
       "</style>\n",
       "<table border=\"1\" class=\"dataframe\">\n",
       "  <thead>\n",
       "    <tr style=\"text-align: right;\">\n",
       "      <th></th>\n",
       "      <th>password</th>\n",
       "      <th>type_breaks</th>\n",
       "    </tr>\n",
       "  </thead>\n",
       "  <tbody>\n",
       "    <tr>\n",
       "      <th>0</th>\n",
       "      <td>kzde5577</td>\n",
       "      <td>1</td>\n",
       "    </tr>\n",
       "    <tr>\n",
       "      <th>1</th>\n",
       "      <td>kino3434</td>\n",
       "      <td>1</td>\n",
       "    </tr>\n",
       "    <tr>\n",
       "      <th>2</th>\n",
       "      <td>visi7k1yr</td>\n",
       "      <td>4</td>\n",
       "    </tr>\n",
       "    <tr>\n",
       "      <th>3</th>\n",
       "      <td>megzy123</td>\n",
       "      <td>1</td>\n",
       "    </tr>\n",
       "    <tr>\n",
       "      <th>4</th>\n",
       "      <td>lamborghin1</td>\n",
       "      <td>1</td>\n",
       "    </tr>\n",
       "    <tr>\n",
       "      <th>...</th>\n",
       "      <td>...</td>\n",
       "      <td>...</td>\n",
       "    </tr>\n",
       "    <tr>\n",
       "      <th>669635</th>\n",
       "      <td>10redtux10</td>\n",
       "      <td>2</td>\n",
       "    </tr>\n",
       "    <tr>\n",
       "      <th>669636</th>\n",
       "      <td>infrared1</td>\n",
       "      <td>1</td>\n",
       "    </tr>\n",
       "    <tr>\n",
       "      <th>669637</th>\n",
       "      <td>184520socram</td>\n",
       "      <td>1</td>\n",
       "    </tr>\n",
       "    <tr>\n",
       "      <th>669638</th>\n",
       "      <td>marken22a</td>\n",
       "      <td>2</td>\n",
       "    </tr>\n",
       "    <tr>\n",
       "      <th>669639</th>\n",
       "      <td>fxx4pw4g</td>\n",
       "      <td>4</td>\n",
       "    </tr>\n",
       "  </tbody>\n",
       "</table>\n",
       "<p>669639 rows × 2 columns</p>\n",
       "</div>"
      ],
      "text/plain": [
       "            password  type_breaks\n",
       "0           kzde5577            1\n",
       "1           kino3434            1\n",
       "2          visi7k1yr            4\n",
       "3           megzy123            1\n",
       "4        lamborghin1            1\n",
       "...              ...          ...\n",
       "669635    10redtux10            2\n",
       "669636     infrared1            1\n",
       "669637  184520socram            1\n",
       "669638     marken22a            2\n",
       "669639      fxx4pw4g            4\n",
       "\n",
       "[669639 rows x 2 columns]"
      ]
     },
     "execution_count": 28,
     "metadata": {},
     "output_type": "execute_result"
    }
   ],
   "source": [
    "df[df.columns[0::8]]"
   ]
  },
  {
   "cell_type": "markdown",
   "id": "0a7b660e",
   "metadata": {
    "id": "0a7b660e"
   },
   "source": [
    "### Описательная статистика"
   ]
  },
  {
   "cell_type": "code",
   "execution_count": null,
   "id": "1f8e56b9",
   "metadata": {
    "id": "1f8e56b9",
    "outputId": "adedf49f-5661-45b8-bb94-605af6e05a37"
   },
   "outputs": [
    {
     "data": {
      "text/html": [
       "<div>\n",
       "<style scoped>\n",
       "    .dataframe tbody tr th:only-of-type {\n",
       "        vertical-align: middle;\n",
       "    }\n",
       "\n",
       "    .dataframe tbody tr th {\n",
       "        vertical-align: top;\n",
       "    }\n",
       "\n",
       "    .dataframe thead th {\n",
       "        text-align: right;\n",
       "    }\n",
       "</style>\n",
       "<table border=\"1\" class=\"dataframe\">\n",
       "  <thead>\n",
       "    <tr style=\"text-align: right;\">\n",
       "      <th></th>\n",
       "      <th>password</th>\n",
       "      <th>strength</th>\n",
       "      <th>length</th>\n",
       "      <th>lower_freq</th>\n",
       "      <th>upper_freq</th>\n",
       "      <th>digit_freq</th>\n",
       "      <th>special_freq</th>\n",
       "      <th>identical_freq</th>\n",
       "      <th>type_breaks</th>\n",
       "    </tr>\n",
       "  </thead>\n",
       "  <tbody>\n",
       "    <tr>\n",
       "      <th>count</th>\n",
       "      <td>669639</td>\n",
       "      <td>669639.000000</td>\n",
       "      <td>669639.000000</td>\n",
       "      <td>669639.000000</td>\n",
       "      <td>669639.000000</td>\n",
       "      <td>669639.000000</td>\n",
       "      <td>669639.000000</td>\n",
       "      <td>669639</td>\n",
       "      <td>669639.000000</td>\n",
       "    </tr>\n",
       "    <tr>\n",
       "      <th>unique</th>\n",
       "      <td>669598</td>\n",
       "      <td>NaN</td>\n",
       "      <td>NaN</td>\n",
       "      <td>NaN</td>\n",
       "      <td>NaN</td>\n",
       "      <td>NaN</td>\n",
       "      <td>NaN</td>\n",
       "      <td>2</td>\n",
       "      <td>NaN</td>\n",
       "    </tr>\n",
       "    <tr>\n",
       "      <th>top</th>\n",
       "      <td>Fuckyouallkh96gnmz</td>\n",
       "      <td>NaN</td>\n",
       "      <td>NaN</td>\n",
       "      <td>NaN</td>\n",
       "      <td>NaN</td>\n",
       "      <td>NaN</td>\n",
       "      <td>NaN</td>\n",
       "      <td>False</td>\n",
       "      <td>NaN</td>\n",
       "    </tr>\n",
       "    <tr>\n",
       "      <th>freq</th>\n",
       "      <td>2</td>\n",
       "      <td>NaN</td>\n",
       "      <td>NaN</td>\n",
       "      <td>NaN</td>\n",
       "      <td>NaN</td>\n",
       "      <td>NaN</td>\n",
       "      <td>NaN</td>\n",
       "      <td>669622</td>\n",
       "      <td>NaN</td>\n",
       "    </tr>\n",
       "    <tr>\n",
       "      <th>mean</th>\n",
       "      <td>NaN</td>\n",
       "      <td>0.990198</td>\n",
       "      <td>9.991488</td>\n",
       "      <td>0.614583</td>\n",
       "      <td>0.053528</td>\n",
       "      <td>0.328275</td>\n",
       "      <td>0.003614</td>\n",
       "      <td>NaN</td>\n",
       "      <td>1.655104</td>\n",
       "    </tr>\n",
       "    <tr>\n",
       "      <th>std</th>\n",
       "      <td>NaN</td>\n",
       "      <td>0.507947</td>\n",
       "      <td>2.819984</td>\n",
       "      <td>0.221059</td>\n",
       "      <td>0.153804</td>\n",
       "      <td>0.198817</td>\n",
       "      <td>0.027053</td>\n",
       "      <td>NaN</td>\n",
       "      <td>1.455581</td>\n",
       "    </tr>\n",
       "    <tr>\n",
       "      <th>min</th>\n",
       "      <td>NaN</td>\n",
       "      <td>0.000000</td>\n",
       "      <td>1.000000</td>\n",
       "      <td>0.000000</td>\n",
       "      <td>0.000000</td>\n",
       "      <td>0.000000</td>\n",
       "      <td>0.000000</td>\n",
       "      <td>NaN</td>\n",
       "      <td>0.000000</td>\n",
       "    </tr>\n",
       "    <tr>\n",
       "      <th>25%</th>\n",
       "      <td>NaN</td>\n",
       "      <td>1.000000</td>\n",
       "      <td>8.000000</td>\n",
       "      <td>0.500000</td>\n",
       "      <td>0.000000</td>\n",
       "      <td>0.187500</td>\n",
       "      <td>0.000000</td>\n",
       "      <td>NaN</td>\n",
       "      <td>1.000000</td>\n",
       "    </tr>\n",
       "    <tr>\n",
       "      <th>50%</th>\n",
       "      <td>NaN</td>\n",
       "      <td>1.000000</td>\n",
       "      <td>9.000000</td>\n",
       "      <td>0.666667</td>\n",
       "      <td>0.000000</td>\n",
       "      <td>0.300000</td>\n",
       "      <td>0.000000</td>\n",
       "      <td>NaN</td>\n",
       "      <td>1.000000</td>\n",
       "    </tr>\n",
       "    <tr>\n",
       "      <th>75%</th>\n",
       "      <td>NaN</td>\n",
       "      <td>1.000000</td>\n",
       "      <td>11.000000</td>\n",
       "      <td>0.777778</td>\n",
       "      <td>0.000000</td>\n",
       "      <td>0.400000</td>\n",
       "      <td>0.000000</td>\n",
       "      <td>NaN</td>\n",
       "      <td>2.000000</td>\n",
       "    </tr>\n",
       "    <tr>\n",
       "      <th>max</th>\n",
       "      <td>NaN</td>\n",
       "      <td>2.000000</td>\n",
       "      <td>220.000000</td>\n",
       "      <td>1.000000</td>\n",
       "      <td>1.000000</td>\n",
       "      <td>1.000000</td>\n",
       "      <td>1.000000</td>\n",
       "      <td>NaN</td>\n",
       "      <td>60.000000</td>\n",
       "    </tr>\n",
       "  </tbody>\n",
       "</table>\n",
       "</div>"
      ],
      "text/plain": [
       "                  password       strength         length     lower_freq  \\\n",
       "count               669639  669639.000000  669639.000000  669639.000000   \n",
       "unique              669598            NaN            NaN            NaN   \n",
       "top     Fuckyouallkh96gnmz            NaN            NaN            NaN   \n",
       "freq                     2            NaN            NaN            NaN   \n",
       "mean                   NaN       0.990198       9.991488       0.614583   \n",
       "std                    NaN       0.507947       2.819984       0.221059   \n",
       "min                    NaN       0.000000       1.000000       0.000000   \n",
       "25%                    NaN       1.000000       8.000000       0.500000   \n",
       "50%                    NaN       1.000000       9.000000       0.666667   \n",
       "75%                    NaN       1.000000      11.000000       0.777778   \n",
       "max                    NaN       2.000000     220.000000       1.000000   \n",
       "\n",
       "           upper_freq     digit_freq   special_freq identical_freq  \\\n",
       "count   669639.000000  669639.000000  669639.000000         669639   \n",
       "unique            NaN            NaN            NaN              2   \n",
       "top               NaN            NaN            NaN          False   \n",
       "freq              NaN            NaN            NaN         669622   \n",
       "mean         0.053528       0.328275       0.003614            NaN   \n",
       "std          0.153804       0.198817       0.027053            NaN   \n",
       "min          0.000000       0.000000       0.000000            NaN   \n",
       "25%          0.000000       0.187500       0.000000            NaN   \n",
       "50%          0.000000       0.300000       0.000000            NaN   \n",
       "75%          0.000000       0.400000       0.000000            NaN   \n",
       "max          1.000000       1.000000       1.000000            NaN   \n",
       "\n",
       "          type_breaks  \n",
       "count   669639.000000  \n",
       "unique            NaN  \n",
       "top               NaN  \n",
       "freq              NaN  \n",
       "mean         1.655104  \n",
       "std          1.455581  \n",
       "min          0.000000  \n",
       "25%          1.000000  \n",
       "50%          1.000000  \n",
       "75%          2.000000  \n",
       "max         60.000000  "
      ]
     },
     "execution_count": 29,
     "metadata": {},
     "output_type": "execute_result"
    }
   ],
   "source": [
    "df.describe(include = 'all')"
   ]
  },
  {
   "cell_type": "code",
   "execution_count": null,
   "id": "3b555d52",
   "metadata": {
    "id": "3b555d52",
    "outputId": "63f4e9a8-b24f-48c7-fff5-a09ea98ba668"
   },
   "outputs": [
    {
     "data": {
      "image/png": "[encoded data removed]",
      "text/plain": [
       "<Figure size 1152x576 with 6 Axes>"
      ]
     },
     "metadata": {},
     "output_type": "display_data"
    }
   ],
   "source": [
    "plt.figure(figsize = (16,8))\n",
    "ax1 = plt.subplot2grid((2, 3), (0, 0))\n",
    "ax1 = sns.boxplot(x = 'length', data = df)\n",
    "\n",
    "ax2 = plt.subplot2grid((2, 3), (0, 1))\n",
    "ax2 = sns.boxplot(x = 'lower_freq', data = df)\n",
    "\n",
    "ax3 = plt.subplot2grid((2, 3), (1, 0))\n",
    "ax3 = sns.boxplot(x = 'digit_freq', data = df)\n",
    "\n",
    "ax4 = plt.subplot2grid((2, 3), (1, 1))\n",
    "ax4 = sns.boxplot(x = 'upper_freq', data = df[df['upper_freq'] > 0])\n",
    "\n",
    "ax5 = plt.subplot2grid((2, 3), (0, 2))\n",
    "ax5 = sns.boxplot(x = 'special_freq', data = df[df['special_freq'] > 0])\n",
    "\n",
    "ax6 = plt.subplot2grid((2, 3), (1, 2))\n",
    "ax6 = sns.boxplot(x = 'type_breaks', data = df[df['type_breaks'] > 0])"
   ]
  },
  {
   "cell_type": "markdown",
   "id": "df4a4be9",
   "metadata": {
    "id": "df4a4be9"
   },
   "source": [
    "### Групповая статистика"
   ]
  },
  {
   "cell_type": "code",
   "execution_count": null,
   "id": "7bb05234",
   "metadata": {
    "id": "7bb05234",
    "outputId": "18b74b87-8ac9-40ca-8dec-d1d5f458e780"
   },
   "outputs": [
    {
     "name": "stdout",
     "output_type": "stream",
     "text": [
      "length\n"
     ]
    },
    {
     "data": {
      "text/html": [
       "<div>\n",
       "<style scoped>\n",
       "    .dataframe tbody tr th:only-of-type {\n",
       "        vertical-align: middle;\n",
       "    }\n",
       "\n",
       "    .dataframe tbody tr th {\n",
       "        vertical-align: top;\n",
       "    }\n",
       "\n",
       "    .dataframe thead th {\n",
       "        text-align: right;\n",
       "    }\n",
       "</style>\n",
       "<table border=\"1\" class=\"dataframe\">\n",
       "  <thead>\n",
       "    <tr style=\"text-align: right;\">\n",
       "      <th></th>\n",
       "      <th>max</th>\n",
       "      <th>min</th>\n",
       "      <th>mean</th>\n",
       "      <th>median</th>\n",
       "      <th>mode</th>\n",
       "    </tr>\n",
       "    <tr>\n",
       "      <th>strength</th>\n",
       "      <th></th>\n",
       "      <th></th>\n",
       "      <th></th>\n",
       "      <th></th>\n",
       "      <th></th>\n",
       "    </tr>\n",
       "  </thead>\n",
       "  <tbody>\n",
       "    <tr>\n",
       "      <th>0</th>\n",
       "      <td>7</td>\n",
       "      <td>1</td>\n",
       "      <td>6.549269</td>\n",
       "      <td>7.0</td>\n",
       "      <td>7</td>\n",
       "    </tr>\n",
       "    <tr>\n",
       "      <th>1</th>\n",
       "      <td>13</td>\n",
       "      <td>6</td>\n",
       "      <td>9.618843</td>\n",
       "      <td>9.0</td>\n",
       "      <td>9</td>\n",
       "    </tr>\n",
       "    <tr>\n",
       "      <th>2</th>\n",
       "      <td>220</td>\n",
       "      <td>11</td>\n",
       "      <td>15.932292</td>\n",
       "      <td>16.0</td>\n",
       "      <td>16</td>\n",
       "    </tr>\n",
       "  </tbody>\n",
       "</table>\n",
       "</div>"
      ],
      "text/plain": [
       "          max  min       mean  median  mode\n",
       "strength                                   \n",
       "0           7    1   6.549269     7.0     7\n",
       "1          13    6   9.618843     9.0     9\n",
       "2         220   11  15.932292    16.0    16"
      ]
     },
     "metadata": {},
     "output_type": "display_data"
    },
    {
     "name": "stdout",
     "output_type": "stream",
     "text": [
      "lower_freq\n"
     ]
    },
    {
     "data": {
      "text/html": [
       "<div>\n",
       "<style scoped>\n",
       "    .dataframe tbody tr th:only-of-type {\n",
       "        vertical-align: middle;\n",
       "    }\n",
       "\n",
       "    .dataframe tbody tr th {\n",
       "        vertical-align: top;\n",
       "    }\n",
       "\n",
       "    .dataframe thead th {\n",
       "        text-align: right;\n",
       "    }\n",
       "</style>\n",
       "<table border=\"1\" class=\"dataframe\">\n",
       "  <thead>\n",
       "    <tr style=\"text-align: right;\">\n",
       "      <th></th>\n",
       "      <th>max</th>\n",
       "      <th>min</th>\n",
       "      <th>mean</th>\n",
       "      <th>median</th>\n",
       "      <th>mode</th>\n",
       "    </tr>\n",
       "    <tr>\n",
       "      <th>strength</th>\n",
       "      <th></th>\n",
       "      <th></th>\n",
       "      <th></th>\n",
       "      <th></th>\n",
       "      <th></th>\n",
       "    </tr>\n",
       "  </thead>\n",
       "  <tbody>\n",
       "    <tr>\n",
       "      <th>0</th>\n",
       "      <td>1.000000</td>\n",
       "      <td>0.142857</td>\n",
       "      <td>0.726137</td>\n",
       "      <td>0.714286</td>\n",
       "      <td>0.714286</td>\n",
       "    </tr>\n",
       "    <tr>\n",
       "      <th>1</th>\n",
       "      <td>0.923077</td>\n",
       "      <td>0.076923</td>\n",
       "      <td>0.642889</td>\n",
       "      <td>0.666667</td>\n",
       "      <td>0.666667</td>\n",
       "    </tr>\n",
       "    <tr>\n",
       "      <th>2</th>\n",
       "      <td>0.933333</td>\n",
       "      <td>0.035714</td>\n",
       "      <td>0.423771</td>\n",
       "      <td>0.400000</td>\n",
       "      <td>0.375000</td>\n",
       "    </tr>\n",
       "  </tbody>\n",
       "</table>\n",
       "</div>"
      ],
      "text/plain": [
       "               max       min      mean    median      mode\n",
       "strength                                                  \n",
       "0         1.000000  0.142857  0.726137  0.714286  0.714286\n",
       "1         0.923077  0.076923  0.642889  0.666667  0.666667\n",
       "2         0.933333  0.035714  0.423771  0.400000  0.375000"
      ]
     },
     "metadata": {},
     "output_type": "display_data"
    },
    {
     "name": "stdout",
     "output_type": "stream",
     "text": [
      "upper_freq\n"
     ]
    },
    {
     "data": {
      "text/html": [
       "<div>\n",
       "<style scoped>\n",
       "    .dataframe tbody tr th:only-of-type {\n",
       "        vertical-align: middle;\n",
       "    }\n",
       "\n",
       "    .dataframe tbody tr th {\n",
       "        vertical-align: top;\n",
       "    }\n",
       "\n",
       "    .dataframe thead th {\n",
       "        text-align: right;\n",
       "    }\n",
       "</style>\n",
       "<table border=\"1\" class=\"dataframe\">\n",
       "  <thead>\n",
       "    <tr style=\"text-align: right;\">\n",
       "      <th></th>\n",
       "      <th>max</th>\n",
       "      <th>min</th>\n",
       "      <th>mean</th>\n",
       "      <th>median</th>\n",
       "      <th>mode</th>\n",
       "    </tr>\n",
       "    <tr>\n",
       "      <th>strength</th>\n",
       "      <th></th>\n",
       "      <th></th>\n",
       "      <th></th>\n",
       "      <th></th>\n",
       "      <th></th>\n",
       "    </tr>\n",
       "  </thead>\n",
       "  <tbody>\n",
       "    <tr>\n",
       "      <th>0</th>\n",
       "      <td>1.000000</td>\n",
       "      <td>0.142857</td>\n",
       "      <td>0.644502</td>\n",
       "      <td>0.714286</td>\n",
       "      <td>0.666667</td>\n",
       "    </tr>\n",
       "    <tr>\n",
       "      <th>1</th>\n",
       "      <td>0.923077</td>\n",
       "      <td>0.076923</td>\n",
       "      <td>0.479718</td>\n",
       "      <td>0.500000</td>\n",
       "      <td>0.111111</td>\n",
       "    </tr>\n",
       "    <tr>\n",
       "      <th>2</th>\n",
       "      <td>0.904762</td>\n",
       "      <td>0.033333</td>\n",
       "      <td>0.398182</td>\n",
       "      <td>0.437500</td>\n",
       "      <td>0.500000</td>\n",
       "    </tr>\n",
       "  </tbody>\n",
       "</table>\n",
       "</div>"
      ],
      "text/plain": [
       "               max       min      mean    median      mode\n",
       "strength                                                  \n",
       "0         1.000000  0.142857  0.644502  0.714286  0.666667\n",
       "1         0.923077  0.076923  0.479718  0.500000  0.111111\n",
       "2         0.904762  0.033333  0.398182  0.437500  0.500000"
      ]
     },
     "metadata": {},
     "output_type": "display_data"
    },
    {
     "name": "stdout",
     "output_type": "stream",
     "text": [
      "digit_freq\n"
     ]
    },
    {
     "data": {
      "text/html": [
       "<div>\n",
       "<style scoped>\n",
       "    .dataframe tbody tr th:only-of-type {\n",
       "        vertical-align: middle;\n",
       "    }\n",
       "\n",
       "    .dataframe tbody tr th {\n",
       "        vertical-align: top;\n",
       "    }\n",
       "\n",
       "    .dataframe thead th {\n",
       "        text-align: right;\n",
       "    }\n",
       "</style>\n",
       "<table border=\"1\" class=\"dataframe\">\n",
       "  <thead>\n",
       "    <tr style=\"text-align: right;\">\n",
       "      <th></th>\n",
       "      <th>max</th>\n",
       "      <th>min</th>\n",
       "      <th>mean</th>\n",
       "      <th>median</th>\n",
       "      <th>mode</th>\n",
       "    </tr>\n",
       "    <tr>\n",
       "      <th>strength</th>\n",
       "      <th></th>\n",
       "      <th></th>\n",
       "      <th></th>\n",
       "      <th></th>\n",
       "      <th></th>\n",
       "    </tr>\n",
       "  </thead>\n",
       "  <tbody>\n",
       "    <tr>\n",
       "      <th>0</th>\n",
       "      <td>1.000000</td>\n",
       "      <td>0.142857</td>\n",
       "      <td>0.279786</td>\n",
       "      <td>0.285714</td>\n",
       "      <td>0.285714</td>\n",
       "    </tr>\n",
       "    <tr>\n",
       "      <th>1</th>\n",
       "      <td>0.923077</td>\n",
       "      <td>0.076923</td>\n",
       "      <td>0.362775</td>\n",
       "      <td>0.333333</td>\n",
       "      <td>0.333333</td>\n",
       "    </tr>\n",
       "    <tr>\n",
       "      <th>2</th>\n",
       "      <td>0.916667</td>\n",
       "      <td>0.005208</td>\n",
       "      <td>0.196351</td>\n",
       "      <td>0.187500</td>\n",
       "      <td>0.125000</td>\n",
       "    </tr>\n",
       "  </tbody>\n",
       "</table>\n",
       "</div>"
      ],
      "text/plain": [
       "               max       min      mean    median      mode\n",
       "strength                                                  \n",
       "0         1.000000  0.142857  0.279786  0.285714  0.285714\n",
       "1         0.923077  0.076923  0.362775  0.333333  0.333333\n",
       "2         0.916667  0.005208  0.196351  0.187500  0.125000"
      ]
     },
     "metadata": {},
     "output_type": "display_data"
    },
    {
     "name": "stdout",
     "output_type": "stream",
     "text": [
      "special_freq\n"
     ]
    },
    {
     "data": {
      "text/html": [
       "<div>\n",
       "<style scoped>\n",
       "    .dataframe tbody tr th:only-of-type {\n",
       "        vertical-align: middle;\n",
       "    }\n",
       "\n",
       "    .dataframe tbody tr th {\n",
       "        vertical-align: top;\n",
       "    }\n",
       "\n",
       "    .dataframe thead th {\n",
       "        text-align: right;\n",
       "    }\n",
       "</style>\n",
       "<table border=\"1\" class=\"dataframe\">\n",
       "  <thead>\n",
       "    <tr style=\"text-align: right;\">\n",
       "      <th></th>\n",
       "      <th>max</th>\n",
       "      <th>min</th>\n",
       "      <th>mean</th>\n",
       "      <th>median</th>\n",
       "      <th>mode</th>\n",
       "    </tr>\n",
       "    <tr>\n",
       "      <th>strength</th>\n",
       "      <th></th>\n",
       "      <th></th>\n",
       "      <th></th>\n",
       "      <th></th>\n",
       "      <th></th>\n",
       "    </tr>\n",
       "  </thead>\n",
       "  <tbody>\n",
       "    <tr>\n",
       "      <th>0</th>\n",
       "      <td>1.000000</td>\n",
       "      <td>0.142857</td>\n",
       "      <td>0.216509</td>\n",
       "      <td>0.142857</td>\n",
       "      <td>0.142857</td>\n",
       "    </tr>\n",
       "    <tr>\n",
       "      <th>1</th>\n",
       "      <td>0.916667</td>\n",
       "      <td>0.076923</td>\n",
       "      <td>0.158254</td>\n",
       "      <td>0.111111</td>\n",
       "      <td>0.111111</td>\n",
       "    </tr>\n",
       "    <tr>\n",
       "      <th>2</th>\n",
       "      <td>0.740741</td>\n",
       "      <td>0.020000</td>\n",
       "      <td>0.103311</td>\n",
       "      <td>0.071429</td>\n",
       "      <td>0.071429</td>\n",
       "    </tr>\n",
       "  </tbody>\n",
       "</table>\n",
       "</div>"
      ],
      "text/plain": [
       "               max       min      mean    median      mode\n",
       "strength                                                  \n",
       "0         1.000000  0.142857  0.216509  0.142857  0.142857\n",
       "1         0.916667  0.076923  0.158254  0.111111  0.111111\n",
       "2         0.740741  0.020000  0.103311  0.071429  0.071429"
      ]
     },
     "metadata": {},
     "output_type": "display_data"
    }
   ],
   "source": [
    "from IPython.display import display\n",
    "\n",
    "cols = ['length', 'lower_freq', 'upper_freq', 'digit_freq', 'special_freq']\n",
    "\n",
    "for i in cols:\n",
    "    print(i)\n",
    "    display(df[df[i] > 0].groupby('strength')[i].agg(['max', 'min', 'mean', 'median', pd.Series.mode]))"
   ]
  },
  {
   "cell_type": "markdown",
   "id": "569dd2f5",
   "metadata": {
    "id": "569dd2f5"
   },
   "source": [
    "### Количественная статистика"
   ]
  },
  {
   "cell_type": "code",
   "execution_count": null,
   "id": "d5052afb",
   "metadata": {
    "id": "d5052afb",
    "outputId": "0bb84a1a-8ebe-4577-b310-2109ed8ad550"
   },
   "outputs": [
    {
     "data": {
      "text/plain": [
       "[]"
      ]
     },
     "execution_count": 34,
     "metadata": {},
     "output_type": "execute_result"
    },
    {
     "data": {
      "image/png": "[encoded data removed]",
      "text/plain": [
       "<Figure size 432x288 with 1 Axes>"
      ]
     },
     "metadata": {},
     "output_type": "display_data"
    }
   ],
   "source": [
    "sns.countplot(x = 'strength', data = df)\n",
    "plt.plot()"
   ]
  },
  {
   "cell_type": "code",
   "execution_count": null,
   "id": "09e6427b",
   "metadata": {
    "id": "09e6427b",
    "outputId": "882d13e5-fa2e-4110-9608-8f14a2ed7071"
   },
   "outputs": [
    {
     "data": {
      "text/plain": [
       "[]"
      ]
     },
     "execution_count": 45,
     "metadata": {},
     "output_type": "execute_result"
    },
    {
     "data": {
      "image/png": "[encoded data removed]",
      "text/plain": [
       "<Figure size 720x576 with 2 Axes>"
      ]
     },
     "metadata": {},
     "output_type": "display_data"
    }
   ],
   "source": [
    "plt.figure(figsize = (10, 8))\n",
    "sns.heatmap(df.corr(), annot = True)\n",
    "plt.plot()"
   ]
  },
  {
   "cell_type": "code",
   "execution_count": null,
   "id": "5beb79b0",
   "metadata": {
    "id": "5beb79b0",
    "outputId": "ff6d0ba7-422b-417c-c44e-f2c4338c39d6"
   },
   "outputs": [
    {
     "name": "stdout",
     "output_type": "stream",
     "text": [
      "False    669622\n",
      "True         17\n",
      "Name: identical_freq, dtype: int64 \n",
      "\n",
      "\n",
      "\n"
     ]
    },
    {
     "data": {
      "image/png": "[encoded data removed]",
      "text/plain": [
       "<Figure size 432x288 with 1 Axes>"
      ]
     },
     "metadata": {},
     "output_type": "display_data"
    }
   ],
   "source": [
    "sns.countplot(x = 'identical_freq', data = df)\n",
    "plt.plot()\n",
    "\n",
    "print(df['identical_freq'].value_counts(),'\\n\\n\\n')"
   ]
  },
  {
   "cell_type": "code",
   "execution_count": null,
   "id": "bd78f424",
   "metadata": {
    "id": "bd78f424"
   },
   "outputs": [],
   "source": [
    "df = df.drop(['identical_freq'], axis=1)"
   ]
  },
  {
   "cell_type": "code",
   "execution_count": null,
   "id": "042f3da4",
   "metadata": {
    "id": "042f3da4",
    "outputId": "cca195a0-cb9d-494e-81ad-82291f73b48e",
    "scrolled": true
   },
   "outputs": [
    {
     "data": {
      "image/png": "[encoded data removed]",
      "text/plain": [
       "<Figure size 1440x864 with 7 Axes>"
      ]
     },
     "metadata": {},
     "output_type": "display_data"
    }
   ],
   "source": [
    "plt.figure(figsize = (20,12))\n",
    "ax1 = plt.subplot2grid((2, 4), (0, 0))\n",
    "ax1 = sns.boxplot(x = df['strength'], y = df['length'], showfliers = False)   # showfliers = False doesn't plot outliers, too messy to infer anything so switched off.\n",
    "\n",
    "ax2 = plt.subplot2grid((2, 4), (0, 1))\n",
    "ax2 = sns.boxplot(x = 'strength', y = 'lower_freq', data = df[df['lower_freq'] > 0])\n",
    "\n",
    "ax3 = plt.subplot2grid((2, 4), (1, 0))\n",
    "ax3 = sns.boxplot(x = 'strength', y = 'upper_freq', data = df[df['upper_freq'] > 0])\n",
    "\n",
    "ax4 = plt.subplot2grid((2, 4), (1, 1))\n",
    "ax4 = sns.boxplot(x = 'strength', y = 'digit_freq', data = df[df['digit_freq'] > 0])\n",
    "\n",
    "ax5 = plt.subplot2grid((2, 4), (0, 2))\n",
    "ax5 = sns.boxplot(x = 'strength', y = 'special_freq', data = df[df['special_freq'] > 0])\n",
    "\n",
    "ax6 = plt.subplot2grid((2, 4), (1, 2))\n",
    "ax6 = sns.boxplot(x = 'strength', y = 'type_breaks', data = df[df['type_breaks'] > 0])\n",
    "\n",
    "ax7 = plt.subplot2grid((2, 4), (0, 3), rowspan = 2)\n",
    "ax7 = sns.boxplot(x = df['strength'], y = df['length'])\n",
    "ax7 = plt.ylim(0,70)"
   ]
  },
  {
   "cell_type": "markdown",
   "id": "c8106ac3",
   "metadata": {
    "id": "c8106ac3"
   },
   "source": [
    "## Преобразование данных"
   ]
  },
  {
   "cell_type": "code",
   "execution_count": 7,
   "id": "280e8dcf",
   "metadata": {
    "id": "280e8dcf"
   },
   "outputs": [],
   "source": [
    "df = df.dropna()\n",
    "# df[\"strength\"] = df[\"strength\"].map({0: \"Weak\", 1: \"Medium\", 2: \"Strong\"})\n",
    "df['password'] = df['password'].astype(str).str.strip()"
   ]
  },
  {
   "cell_type": "code",
   "execution_count": 8,
   "id": "bad96938",
   "metadata": {
    "id": "bad96938"
   },
   "outputs": [],
   "source": [
    "from sklearn.utils import resample\n",
    "\n",
    "df_w = df[df.strength==0]\n",
    "df_m = df[df.strength==1]\n",
    "df_s = df[df.strength==2]\n",
    "df_s\n",
    "df_m_sample = resample(df_m,\n",
    "               replace=False,\n",
    "               n_samples=min(len(df_w), len(df_s)),\n",
    "               random_state=1)\n",
    "  \n",
    "df = pd.concat([df_w, df_m_sample, df_s])"
   ]
  },
  {
   "cell_type": "code",
   "execution_count": 9,
   "id": "c5a2aeed",
   "metadata": {
    "colab": {
     "base_uri": "https://localhost:8080/"
    },
    "id": "c5a2aeed",
    "outputId": "7400aeb0-02da-4617-d7e7-2cbba8268a9f"
   },
   "outputs": [
    {
     "data": {
      "text/plain": [
       "(255975, 2)"
      ]
     },
     "execution_count": 9,
     "metadata": {},
     "output_type": "execute_result"
    }
   ],
   "source": [
    "df.shape"
   ]
  },
  {
   "cell_type": "code",
   "execution_count": 10,
   "id": "46ba3599",
   "metadata": {
    "id": "46ba3599"
   },
   "outputs": [],
   "source": [
    "# df.to_csv (r'data_2.csv', index= False)"
   ]
  },
  {
   "cell_type": "code",
   "execution_count": 11,
   "id": "637cbe14",
   "metadata": {
    "id": "637cbe14"
   },
   "outputs": [],
   "source": [
    "class_encoder = LabelEncoder()\n",
    "df['strength'] = class_encoder.fit_transform(df['strength'])"
   ]
  },
  {
   "cell_type": "code",
   "execution_count": 12,
   "id": "97fc4171",
   "metadata": {
    "id": "97fc4171"
   },
   "outputs": [],
   "source": [
    "X = df['password']\n",
    "y = df['strength']\n",
    "n_classes = y.nunique()\n",
    "X_train, X_test, y_train, y_test = train_test_split(X, y, test_size=0.2, random_state=1)"
   ]
  },
  {
   "cell_type": "markdown",
   "id": "4e6c9bd9",
   "metadata": {
    "id": "4e6c9bd9"
   },
   "source": [
    "## Подготовка к построению моделей"
   ]
  },
  {
   "cell_type": "code",
   "execution_count": 13,
   "id": "1e308c7a",
   "metadata": {
    "id": "1e308c7a"
   },
   "outputs": [],
   "source": [
    "class Vocab:\n",
    "    def __init__(self, data):\n",
    "        self.max_seq_len = data.str.len().max()\n",
    "        \n",
    "        tokens = set()\n",
    "        for item in data:\n",
    "            tokens.update(item)\n",
    "            \n",
    "        tokens = list(tokens)\n",
    "        tokens.insert(0, \"<PAD>\")\n",
    "        self.idx_to_token = dict(enumerate(tokens))\n",
    "        self.token_to_idx = {token: idx for idx, token in self.idx_to_token.items()}\n",
    "        self.vocab_len = len(self.idx_to_token)"
   ]
  },
  {
   "cell_type": "code",
   "execution_count": 14,
   "id": "ZWd1Jrbui3XO",
   "metadata": {
    "id": "ZWd1Jrbui3XO"
   },
   "outputs": [],
   "source": [
    "class PasswordsDataset(Dataset):\n",
    "    def __init__(self, X, y, vocab: Vocab):\n",
    "        self.X = X\n",
    "        self.y = y\n",
    "        self.vocab = vocab\n",
    "\n",
    "    def vectorize(self, password):\n",
    "        password_t = torch.zeros(self.vocab.max_seq_len).type(torch.long)\n",
    "        for i, token in enumerate(password):\n",
    "            password_t[i] = self.vocab.token_to_idx[token]\n",
    "        \n",
    "        return password_t\n",
    "\n",
    "    def __len__(self):\n",
    "        return len(self.X)\n",
    "\n",
    "    def __getitem__(self, idx):\n",
    "        return self.vectorize(self.X.iloc[idx]), self.y.iloc[idx]"
   ]
  },
  {
   "cell_type": "code",
   "execution_count": 15,
   "id": "kNQJcjfIi3XO",
   "metadata": {
    "id": "kNQJcjfIi3XO"
   },
   "outputs": [],
   "source": [
    "def hard_training(model, criterion, optimizer, n_epochs=11):\n",
    "    train_losses = []\n",
    "    test_losses = []\n",
    "    accuracy = []\n",
    "    prev = float(\"inf\")\n",
    "\n",
    "    for epoch in range(n_epochs):\n",
    "        epoch_loss = 0\n",
    "        y_pred = torch.empty(0)\n",
    "        y_true = torch.empty(0)\n",
    "        for X_batch, y_batch in train_loader:\n",
    "            predictions = model(X_batch)\n",
    "            loss = criterion(predictions, y_batch.type(torch.long))\n",
    "            loss.backward()\n",
    "            optimizer.step()\n",
    "            optimizer.zero_grad()\n",
    "            epoch_loss += loss.item()\n",
    "            with torch.no_grad():\n",
    "                y_true = torch.cat((y_true, y_batch))\n",
    "                y_pred = torch.cat((y_pred, predictions.argmax(dim=1).cpu().detach()))\n",
    "                train_loss = criterion(y_true, y_pred)\n",
    "\n",
    "        trin_acc = accuracy_score(y_true, y_pred).item()\n",
    "        \n",
    "        with torch.no_grad():\n",
    "            val_loss = 0\n",
    "            y_pred = torch.empty(0)\n",
    "            y_true = torch.empty(0)\n",
    "            for X_batch, y_batch in test_loader:\n",
    "                predictions = model(X_batch)\n",
    "                loss = criterion(predictions, y_batch.type(torch.long)).item()\n",
    "                y_true = torch.cat((y_true, y_batch))\n",
    "                y_pred = torch.cat((y_pred, predictions.argmax(dim=1).cpu().detach()))\n",
    "                val_loss += loss\n",
    "                test_loss = criterion(y_true, y_pred)\n",
    "            val_acc = accuracy_score(y_true, y_pred).item()\n",
    "            if epoch % 1 == 0:\n",
    "                print(f'#{epoch} Training loss: {epoch_loss / len(train_loader):.4f}\\\n",
    " training_acc: {trin_acc:.4f} val_loss: {val_loss / len(test_loader):.4f} val_acc: {val_acc:.4f}')\n",
    "                \n",
    "        prev = train_loss\n",
    "        train_losses.append(train_loss.item())\n",
    "        test_losses.append(test_loss.item())\n",
    "        accuracy.append(val_acc)\n",
    "\n",
    "    return train_losses, test_losses, accuracy\n",
    "\n",
    "\n",
    "\n",
    "def GloP_boB(model):\n",
    "    y_pred = torch.empty(0)\n",
    "    y_ = torch.empty(0)\n",
    "\n",
    "    for X_batch, y_batch in test_loader:\n",
    "\n",
    "        predictions = model(X_batch).argmax(dim=1).cpu().detach()\n",
    "        y_pred = torch.cat((y_pred, predictions))\n",
    "        y_ = torch.cat((y_, y_batch))\n",
    "\n",
    "    print(classification_report(y_, y_pred, zero_division=0))"
   ]
  },
  {
   "cell_type": "code",
   "execution_count": 16,
   "id": "1qCC7nPBi3XO",
   "metadata": {
    "id": "1qCC7nPBi3XO"
   },
   "outputs": [],
   "source": [
    "vocab = Vocab(X)\n",
    "train_dataset = PasswordsDataset(X_train, y_train, vocab)\n",
    "test_dataset = PasswordsDataset(X_test, y_test, vocab)"
   ]
  },
  {
   "cell_type": "code",
   "execution_count": 17,
   "id": "nlN3BhmwgnlB",
   "metadata": {
    "colab": {
     "base_uri": "https://localhost:8080/"
    },
    "id": "nlN3BhmwgnlB",
    "outputId": "546d05e2-6222-4804-a8c8-0c79408758fd"
   },
   "outputs": [
    {
     "name": "stdout",
     "output_type": "stream",
     "text": [
      "tensor([116,  71, 160,  65, 167,  71,   0,   0,   0,   0,   0,   0,   0,   0,\n",
      "          0,   0,   0,   0,   0,   0,   0,   0,   0,   0,   0,   0,   0,   0,\n",
      "          0,   0,   0,   0,   0,   0,   0,   0,   0,   0,   0,   0,   0,   0,\n",
      "          0,   0,   0,   0,   0,   0,   0,   0,   0,   0,   0,   0,   0,   0,\n",
      "          0,   0,   0,   0,   0,   0,   0,   0,   0,   0,   0,   0,   0,   0,\n",
      "          0,   0,   0,   0,   0,   0,   0,   0,   0,   0,   0,   0,   0,   0,\n",
      "          0,   0,   0,   0,   0,   0,   0,   0,   0,   0,   0,   0,   0,   0,\n",
      "          0,   0,   0,   0,   0,   0,   0,   0,   0,   0,   0,   0,   0,   0,\n",
      "          0,   0,   0,   0,   0,   0,   0,   0,   0,   0,   0,   0,   0,   0,\n",
      "          0,   0,   0,   0,   0,   0,   0,   0,   0,   0,   0,   0,   0,   0,\n",
      "          0,   0,   0,   0,   0,   0,   0,   0,   0,   0,   0,   0,   0,   0,\n",
      "          0,   0,   0,   0,   0,   0,   0,   0,   0,   0,   0,   0,   0,   0,\n",
      "          0,   0,   0,   0,   0,   0,   0,   0,   0,   0,   0,   0,   0,   0,\n",
      "          0,   0,   0,   0,   0,   0,   0,   0,   0,   0,   0,   0,   0,   0,\n",
      "          0,   0,   0,   0,   0,   0,   0,   0,   0,   0,   0,   0,   0,   0,\n",
      "          0,   0,   0,   0,   0,   0,   0,   0,   0,   0])\n"
     ]
    }
   ],
   "source": [
    "print(train_dataset.vectorize('ok>bdk'))"
   ]
  },
  {
   "cell_type": "code",
   "execution_count": 18,
   "id": "R4P8EIOvi3XO",
   "metadata": {
    "id": "R4P8EIOvi3XO"
   },
   "outputs": [],
   "source": [
    "train_loader = DataLoader(train_dataset, batch_size=128, shuffle=True)\n",
    "test_loader = DataLoader(test_dataset, batch_size=128, shuffle=False)"
   ]
  },
  {
   "cell_type": "markdown",
   "id": "WliwU4aqQI1t",
   "metadata": {
    "id": "WliwU4aqQI1t"
   },
   "source": [
    "## Модель - CNN"
   ]
  },
  {
   "cell_type": "code",
   "execution_count": null,
   "id": "txd_XOkIi3XO",
   "metadata": {
    "id": "txd_XOkIi3XO"
   },
   "outputs": [],
   "source": [
    "class CNN(nn.Module):\n",
    "    def __init__(self, num_embeddings, embedding_dim):\n",
    "        super(CNN, self).__init__()\n",
    "        self.embedding = nn.Embedding(num_embeddings, embedding_dim)\n",
    "        self.l1 = nn.Sequential(\n",
    "            nn.Conv1d(embedding_dim, 64, kernel_size=5),\n",
    "            nn.BatchNorm1d(64),\n",
    "            nn.MaxPool1d(2),\n",
    "        )\n",
    "        self.fc1 = nn.Sequential(\n",
    "            nn.Dropout(),\n",
    "            nn.Linear(108*64, 1024),\n",
    "            nn.ReLU(),\n",
    "            \n",
    "        )\n",
    "        self.fc2 = nn.Sequential(\n",
    "            nn.Dropout(),\n",
    "            nn.Linear(1024, 18),\n",
    "            nn.Softmax(dim=1),\n",
    "        )\n",
    "\n",
    "    def forward(self, x, training=False):\n",
    "        x = self.embedding(x).transpose(1,2)\n",
    "        x = self.l1(x)\n",
    "        x = x.view(x.size(0), -1)\n",
    "        x = self.fc1(x)\n",
    "        x = self.fc2(x)\n",
    "        return x"
   ]
  },
  {
   "cell_type": "code",
   "execution_count": null,
   "id": "ESm1eVZli3XP",
   "metadata": {
    "id": "ESm1eVZli3XP"
   },
   "outputs": [],
   "source": [
    "model = CNN(num_embeddings=vocab.vocab_len, embedding_dim=1)\n",
    "criterion = nn.CrossEntropyLoss()\n",
    "optimizer = optim.Adam(model.parameters(), lr=0.001)"
   ]
  },
  {
   "cell_type": "code",
   "execution_count": null,
   "id": "pO4It9Foi3XP",
   "metadata": {
    "colab": {
     "base_uri": "https://localhost:8080/"
    },
    "id": "pO4It9Foi3XP",
    "outputId": "7b8770ea-89a7-4400-95f2-ff443cf4a590"
   },
   "outputs": [
    {
     "name": "stdout",
     "output_type": "stream",
     "text": [
      "#0 Training loss: 1.9921 training_acc: 0.9897 val_loss: 1.9837 val_acc: 0.9978\n",
      "#1 Training loss: 1.9830 training_acc: 0.9986 val_loss: 1.9827 val_acc: 0.9989\n",
      "#2 Training loss: 1.9826 training_acc: 0.9989 val_loss: 1.9822 val_acc: 0.9994\n",
      "#3 Training loss: 1.9826 training_acc: 0.9989 val_loss: 1.9819 val_acc: 0.9996\n",
      "#4 Training loss: 1.9824 training_acc: 0.9991 val_loss: 1.9819 val_acc: 0.9997\n",
      "#5 Training loss: 1.9820 training_acc: 0.9996 val_loss: 1.9818 val_acc: 0.9997\n",
      "#6 Training loss: 1.9823 training_acc: 0.9992 val_loss: 1.9817 val_acc: 0.9998\n",
      "#7 Training loss: 1.9817 training_acc: 0.9998 val_loss: 1.9817 val_acc: 0.9999\n",
      "#8 Training loss: 1.9817 training_acc: 0.9999 val_loss: 1.9817 val_acc: 0.9999\n",
      "#9 Training loss: 1.9818 training_acc: 0.9997 val_loss: 1.9818 val_acc: 0.9998\n",
      "#10 Training loss: 1.9817 training_acc: 0.9998 val_loss: 1.9817 val_acc: 0.9999\n",
      "CPU times: user 1h 49min 3s, sys: 8min 38s, total: 1h 57min 41s\n",
      "Wall time: 1h 57min 46s\n"
     ]
    }
   ],
   "source": [
    "%%time\n",
    "\n",
    "train_losses, test_losses, accuracy = hard_training(model, criterion, optimizer)"
   ]
  },
  {
   "cell_type": "code",
   "execution_count": null,
   "id": "d4YsbHQAi3XP",
   "metadata": {
    "colab": {
     "base_uri": "https://localhost:8080/"
    },
    "id": "d4YsbHQAi3XP",
    "outputId": "358c1197-c6fb-464a-e98e-50363fabd0b8"
   },
   "outputs": [
    {
     "name": "stdout",
     "output_type": "stream",
     "text": [
      "              precision    recall  f1-score   support\n",
      "\n",
      "         0.0       1.00      1.00      1.00     18009\n",
      "         1.0       1.00      1.00      1.00     16557\n",
      "         2.0       1.00      1.00      1.00     16629\n",
      "\n",
      "    accuracy                           1.00     51195\n",
      "   macro avg       1.00      1.00      1.00     51195\n",
      "weighted avg       1.00      1.00      1.00     51195\n",
      "\n"
     ]
    }
   ],
   "source": [
    "GloP_boB(model)"
   ]
  },
  {
   "cell_type": "code",
   "execution_count": null,
   "id": "0y7y6j-LXehm",
   "metadata": {
    "colab": {
     "base_uri": "https://localhost:8080/",
     "height": 490
    },
    "id": "0y7y6j-LXehm",
    "outputId": "a1100fe9-f21f-4a45-95a1-15b4ce96a3de"
   },
   "outputs": [
    {
     "data": {
      "text/plain": [
       "[<matplotlib.lines.Line2D at 0x7f1845634250>]"
      ]
     },
     "execution_count": 19,
     "metadata": {},
     "output_type": "execute_result"
    },
    {
     "data": {
      "image/png": "[encoded data removed]",
      "text/plain": [
       "<Figure size 640x480 with 1 Axes>"
      ]
     },
     "metadata": {},
     "output_type": "display_data"
    }
   ],
   "source": [
    "plt.title(\"Train loss\")\n",
    "plt.xlabel(\"Epoch\")\n",
    "plt.plot(train_losses, label=\"train\")"
   ]
  },
  {
   "cell_type": "code",
   "execution_count": null,
   "id": "iVWBGjh5i_wd",
   "metadata": {
    "colab": {
     "base_uri": "https://localhost:8080/",
     "height": 490
    },
    "id": "iVWBGjh5i_wd",
    "outputId": "c08b3c20-261c-4a62-fc49-bf0c3cdc2076"
   },
   "outputs": [
    {
     "data": {
      "text/plain": [
       "[<matplotlib.lines.Line2D at 0x7f1845786800>]"
      ]
     },
     "execution_count": 20,
     "metadata": {},
     "output_type": "execute_result"
    },
    {
     "data": {
      "image/png": "[encoded data removed]",
      "text/plain": [
       "<Figure size 640x480 with 1 Axes>"
      ]
     },
     "metadata": {},
     "output_type": "display_data"
    }
   ],
   "source": [
    "plt.title(\"Test loss\")\n",
    "plt.xlabel(\"Epoch\")\n",
    "plt.plot(test_losses, label=\"test\")"
   ]
  },
  {
   "cell_type": "code",
   "execution_count": null,
   "id": "xvcMnO4ajFjc",
   "metadata": {
    "colab": {
     "base_uri": "https://localhost:8080/",
     "height": 490
    },
    "id": "xvcMnO4ajFjc",
    "outputId": "311ff6c5-c1b2-445a-fb10-b2a89fa0431d"
   },
   "outputs": [
    {
     "data": {
      "text/plain": [
       "[<matplotlib.lines.Line2D at 0x7f1845507310>]"
      ]
     },
     "execution_count": 21,
     "metadata": {},
     "output_type": "execute_result"
    },
    {
     "data": {
      "image/png": "[encoded data removed]",
      "text/plain": [
       "<Figure size 640x480 with 1 Axes>"
      ]
     },
     "metadata": {},
     "output_type": "display_data"
    }
   ],
   "source": [
    "plt.title(\"Accuracy\")\n",
    "plt.xlabel(\"Epoch\")\n",
    "plt.plot(accuracy, label=\"accuracy\")"
   ]
  },
  {
   "cell_type": "code",
   "execution_count": null,
   "id": "ZGfJX2NP1sw4",
   "metadata": {
    "id": "ZGfJX2NP1sw4"
   },
   "outputs": [],
   "source": [
    "def test_password(passowrd):\n",
    "    x = train_dataset.vectorize(passowrd).unsqueeze(0)\n",
    "    predictions = model(x).argmax(dim=1).cpu().detach()\n",
    "    print(class_encoder.inverse_transform(predictions))"
   ]
  },
  {
   "cell_type": "code",
   "execution_count": null,
   "id": "GHjCRqQg1sw5",
   "metadata": {
    "colab": {
     "base_uri": "https://localhost:8080/"
    },
    "id": "GHjCRqQg1sw5",
    "outputId": "1081522d-7b0c-4c4c-97bc-3990dd4a9728"
   },
   "outputs": [
    {
     "name": "stdout",
     "output_type": "stream",
     "text": [
      "[0]\n",
      "[0]\n",
      "[1]\n",
      "[1]\n",
      "[1]\n",
      "[2]\n",
      "[2]\n"
     ]
    }
   ],
   "source": [
    "for password in (\"ok>bdk\", \"12kjl!\", \"password\", \"123123123\", \"abcabcabcabc\", '!@GDS9asf!@(ds092', \"juanpaganini588@gmail.com\"):\n",
    "    test_password(password)"
   ]
  },
  {
   "cell_type": "markdown",
   "id": "YtMPloas_kGO",
   "metadata": {
    "id": "YtMPloas_kGO"
   },
   "source": [
    "## Модель - RNN"
   ]
  },
  {
   "cell_type": "code",
   "execution_count": 19,
   "id": "YUcLYQZY_nTL",
   "metadata": {
    "id": "YUcLYQZY_nTL"
   },
   "outputs": [],
   "source": [
    "class RNN(nn.Module):\n",
    "    def __init__(\n",
    "            self,\n",
    "            rnn_cls,\n",
    "            num_embeddings: int,\n",
    "            embedding_dim: int,\n",
    "            rnn_hidden_size: int,\n",
    "            vector_size: int,\n",
    "            num_classes: int,\n",
    "    ):\n",
    "        super().__init__()\n",
    "        self.embedding = nn.Embedding(num_embeddings=num_embeddings, embedding_dim=embedding_dim, padding_idx=0)\n",
    "        self.hx = None\n",
    "        self.rnn = rnn_cls(input_size=embedding_dim, hidden_size=rnn_hidden_size)\n",
    "        self.classifier = nn.Sequential(\n",
    "            nn.Linear(rnn_hidden_size * vector_size, 256),\n",
    "            nn.ReLU(),\n",
    "            nn.Dropout(),\n",
    "            nn.Linear(256, num_classes),\n",
    "        )\n",
    "\n",
    "    def forward(self, x: torch.Tensor) -> torch.Tensor:\n",
    "        x = self.embedding(x)\n",
    "        x, hx = self.rnn(x, self.hx)\n",
    "        x = torch.flatten(x, 1)\n",
    "        \n",
    "        return self.classifier(x)"
   ]
  },
  {
   "cell_type": "code",
   "execution_count": 20,
   "id": "TUxRoW4EZHI4",
   "metadata": {
    "id": "TUxRoW4EZHI4"
   },
   "outputs": [],
   "source": [
    "embedding_dim = [1, 100]\n",
    "rnn_hidden_size = [64, 128]\n",
    "lr = [0.0015, 0.0005]"
   ]
  },
  {
   "cell_type": "code",
   "execution_count": 21,
   "id": "MYsnEhrJYN7O",
   "metadata": {
    "colab": {
     "base_uri": "https://localhost:8080/"
    },
    "id": "MYsnEhrJYN7O",
    "outputId": "e6796b07-47e5-480a-9370-f8d85d7f202d"
   },
   "outputs": [
    {
     "data": {
      "text/plain": [
       "8"
      ]
     },
     "execution_count": 21,
     "metadata": {},
     "output_type": "execute_result"
    }
   ],
   "source": [
    "len(list(product(embedding_dim, rnn_hidden_size, lr)))"
   ]
  },
  {
   "cell_type": "code",
   "execution_count": 22,
   "id": "JKA_y366dCWA",
   "metadata": {
    "id": "JKA_y366dCWA"
   },
   "outputs": [],
   "source": [
    "def df_hyperparams(*values):\n",
    "    if values:\n",
    "        data = [values]\n",
    "    else:\n",
    "        data = None\n",
    "\n",
    "    return pd.DataFrame(data=data, columns=[\"embedding_dim\", \"rnn_hidden_size\", \"learning rate\", \"time\", \"params num\", \"accuracy\", \"train_losses\", \"test_losses\"])"
   ]
  },
  {
   "cell_type": "code",
   "execution_count": 23,
   "id": "cobPyw_FZqX3",
   "metadata": {
    "colab": {
     "background_save": true,
     "base_uri": "https://localhost:8080/",
     "height": 468,
     "referenced_widgets": [
      "43482585cde6414baa4e056eae97aad7",
      "e8f7b8c6b46146519f7f9d64464552fd",
      "0eb19fda195c43649abdad62e14e45d4",
      "784367a40d644147b1d44505bab2e38d",
      "8ac1df6612b84decb76db048a94ce27d",
      "ea2e27eef5bc4ec9b7e4e2466a94ecc6",
      "7d0e1930111e42d3bb2aabe6fbe388ef",
      "40e89990726f44bd9c82d4464c926517",
      "55ccc82b39634a05b22e004d941176a0",
      "aef7b65994f24358ae95bda5e934a443",
      "0f2b819306a24c30a8b1ccfa76c69364"
     ]
    },
    "id": "cobPyw_FZqX3",
    "outputId": "3ad089b2-24cb-4515-bafb-285c42f7e18d"
   },
   "outputs": [
    {
     "data": {
      "application/vnd.jupyter.widget-view+json": {
       "model_id": "4d3baa35636743eeb9919d6720d074b7",
       "version_major": 2,
       "version_minor": 0
      },
      "text/plain": [
       "  0%|          | 0/8 [00:00<?, ?it/s]"
      ]
     },
     "metadata": {},
     "output_type": "display_data"
    },
    {
     "name": "stdout",
     "output_type": "stream",
     "text": [
      "#0 Training loss: 0.1724 training_acc: 0.9282 val_loss: 0.0136 val_acc: 0.9969\n",
      "#1 Training loss: 0.0126 training_acc: 0.9977 val_loss: 0.0048 val_acc: 0.9993\n",
      "#2 Training loss: 0.0046 training_acc: 0.9992 val_loss: 0.0040 val_acc: 0.9994\n",
      "#3 Training loss: 0.0080 training_acc: 0.9988 val_loss: 0.0081 val_acc: 0.9986\n",
      "#4 Training loss: 0.0062 training_acc: 0.9991 val_loss: 0.0112 val_acc: 0.9983\n",
      "#5 Training loss: 0.0053 training_acc: 0.9994 val_loss: 0.0029 val_acc: 0.9996\n",
      "#6 Training loss: 0.0048 training_acc: 0.9993 val_loss: 0.0121 val_acc: 0.9987\n",
      "#7 Training loss: 0.0142 training_acc: 0.9984 val_loss: 0.0180 val_acc: 0.9985\n",
      "#8 Training loss: 0.0051 training_acc: 0.9994 val_loss: 0.0064 val_acc: 0.9998\n",
      "#9 Training loss: 0.0054 training_acc: 0.9995 val_loss: 0.0042 val_acc: 0.9999\n",
      "#10 Training loss: 0.0042 training_acc: 0.9996 val_loss: 0.0261 val_acc: 0.9993\n",
      "#0 Training loss: 0.2570 training_acc: 0.9018 val_loss: 0.0187 val_acc: 0.9959\n",
      "#1 Training loss: 0.0085 training_acc: 0.9979 val_loss: 0.0047 val_acc: 0.9994\n",
      "#2 Training loss: 0.0036 training_acc: 0.9992 val_loss: 0.0021 val_acc: 0.9994\n",
      "#3 Training loss: 0.0018 training_acc: 0.9996 val_loss: 0.0028 val_acc: 0.9996\n",
      "#4 Training loss: 0.0022 training_acc: 0.9996 val_loss: 0.0015 val_acc: 0.9997\n",
      "#5 Training loss: 0.0017 training_acc: 0.9997 val_loss: 0.0007 val_acc: 0.9999\n",
      "#6 Training loss: 0.0015 training_acc: 0.9997 val_loss: 0.0012 val_acc: 0.9997\n",
      "#7 Training loss: 0.0009 training_acc: 0.9999 val_loss: 0.0003 val_acc: 1.0000\n",
      "#8 Training loss: 0.0017 training_acc: 0.9997 val_loss: 0.0015 val_acc: 0.9997\n",
      "#9 Training loss: 0.0006 training_acc: 0.9999 val_loss: 0.0005 val_acc: 0.9999\n",
      "#10 Training loss: 0.0007 training_acc: 0.9999 val_loss: 0.0007 val_acc: 0.9999\n",
      "#0 Training loss: 0.1316 training_acc: 0.9504 val_loss: 0.0062 val_acc: 0.9986\n",
      "#1 Training loss: 0.0061 training_acc: 0.9987 val_loss: 0.0086 val_acc: 0.9975\n",
      "#2 Training loss: 0.0086 training_acc: 0.9985 val_loss: 0.0077 val_acc: 0.9991\n",
      "#3 Training loss: 0.6714 training_acc: 0.8091 val_loss: 1.0962 val_acc: 0.3543\n",
      "#4 Training loss: 1.0962 training_acc: 0.3544 val_loss: 1.0960 val_acc: 0.3540\n",
      "#5 Training loss: 1.0947 training_acc: 0.3538 val_loss: 1.0948 val_acc: 0.3552\n",
      "#6 Training loss: 1.0947 training_acc: 0.3537 val_loss: 1.0956 val_acc: 0.3544\n",
      "#7 Training loss: 1.0962 training_acc: 0.3529 val_loss: 1.0958 val_acc: 0.3538\n",
      "#8 Training loss: 1.1407 training_acc: 0.3527 val_loss: 1.0956 val_acc: 0.3538\n",
      "#9 Training loss: 1.1037 training_acc: 0.3521 val_loss: 1.0958 val_acc: 0.3539\n",
      "#10 Training loss: 1.1253 training_acc: 0.3519 val_loss: 1.0954 val_acc: 0.3541\n",
      "#0 Training loss: 0.2235 training_acc: 0.9151 val_loss: 0.0272 val_acc: 0.9937\n",
      "#1 Training loss: 0.0135 training_acc: 0.9968 val_loss: 0.0058 val_acc: 0.9988\n",
      "#2 Training loss: 0.0047 training_acc: 0.9990 val_loss: 0.0036 val_acc: 0.9994\n",
      "#3 Training loss: 0.0036 training_acc: 0.9992 val_loss: 0.0018 val_acc: 0.9996\n",
      "#4 Training loss: 0.0025 training_acc: 0.9996 val_loss: 0.0015 val_acc: 0.9996\n",
      "#5 Training loss: 0.0047 training_acc: 0.9992 val_loss: 0.0032 val_acc: 0.9995\n",
      "#6 Training loss: 0.0015 training_acc: 0.9998 val_loss: 0.0007 val_acc: 0.9999\n",
      "#7 Training loss: 0.0012 training_acc: 0.9998 val_loss: 0.0012 val_acc: 0.9998\n",
      "#8 Training loss: 0.0021 training_acc: 0.9996 val_loss: 0.0044 val_acc: 0.9998\n",
      "#9 Training loss: 0.0035 training_acc: 0.9995 val_loss: 0.0088 val_acc: 0.9994\n",
      "#10 Training loss: 0.0022 training_acc: 0.9997 val_loss: 0.0040 val_acc: 0.9998\n",
      "#0 Training loss: 0.0219 training_acc: 0.9920 val_loss: 0.0006 val_acc: 0.9999\n",
      "#1 Training loss: 0.0008 training_acc: 0.9999 val_loss: 0.0007 val_acc: 0.9999\n",
      "#2 Training loss: 0.0030 training_acc: 0.9995 val_loss: 0.0036 val_acc: 0.9999\n",
      "#3 Training loss: 0.0011 training_acc: 0.9998 val_loss: 0.0069 val_acc: 0.9995\n",
      "#4 Training loss: 0.0214 training_acc: 0.9992 val_loss: 0.0111 val_acc: 0.9996\n",
      "#5 Training loss: 0.0020 training_acc: 0.9998 val_loss: 0.0083 val_acc: 0.9997\n",
      "#6 Training loss: 0.0028 training_acc: 0.9999 val_loss: 0.0048 val_acc: 0.9999\n",
      "#7 Training loss: 0.0027 training_acc: 0.9998 val_loss: 0.0103 val_acc: 0.9997\n",
      "#8 Training loss: 0.1163 training_acc: 0.9983 val_loss: 0.0027 val_acc: 0.9999\n",
      "#9 Training loss: 0.0015 training_acc: 0.9999 val_loss: 0.0019 val_acc: 0.9999\n",
      "#10 Training loss: 0.0009 training_acc: 0.9999 val_loss: 0.0025 val_acc: 0.9999\n",
      "#0 Training loss: 0.0416 training_acc: 0.9853 val_loss: 0.0026 val_acc: 0.9996\n",
      "#1 Training loss: 0.0010 training_acc: 0.9998 val_loss: 0.0005 val_acc: 0.9999\n",
      "#2 Training loss: 0.0006 training_acc: 0.9999 val_loss: 0.0004 val_acc: 1.0000\n",
      "#3 Training loss: 0.0007 training_acc: 0.9999 val_loss: 0.0007 val_acc: 0.9999\n",
      "#4 Training loss: 0.0007 training_acc: 0.9999 val_loss: 0.0034 val_acc: 0.9990\n",
      "#5 Training loss: 0.0005 training_acc: 0.9999 val_loss: 0.0006 val_acc: 0.9999\n",
      "#6 Training loss: 0.0003 training_acc: 1.0000 val_loss: 0.0012 val_acc: 0.9999\n",
      "#7 Training loss: 0.0008 training_acc: 0.9999 val_loss: 0.0019 val_acc: 0.9998\n",
      "#8 Training loss: 0.0009 training_acc: 0.9999 val_loss: 0.0013 val_acc: 0.9999\n",
      "#9 Training loss: 0.0006 training_acc: 0.9999 val_loss: 0.0012 val_acc: 0.9999\n",
      "#10 Training loss: 0.0002 training_acc: 1.0000 val_loss: 0.0005 val_acc: 1.0000\n",
      "#0 Training loss: 0.0272 training_acc: 0.9913 val_loss: 0.0008 val_acc: 0.9999\n",
      "#1 Training loss: 0.6134 training_acc: 0.9899 val_loss: 0.0085 val_acc: 0.9977\n",
      "#2 Training loss: 0.0064 training_acc: 0.9981 val_loss: 0.0099 val_acc: 0.9972\n",
      "#3 Training loss: 0.0488 training_acc: 0.9846 val_loss: 0.1043 val_acc: 0.9681\n",
      "#4 Training loss: 0.1805 training_acc: 0.9323 val_loss: 0.3009 val_acc: 0.8612\n",
      "#5 Training loss: 0.3380 training_acc: 0.8332 val_loss: 0.4390 val_acc: 0.7433\n",
      "#6 Training loss: 0.5331 training_acc: 0.7466 val_loss: 0.6342 val_acc: 0.6404\n",
      "#7 Training loss: 0.6228 training_acc: 0.6398 val_loss: 0.6133 val_acc: 0.6425\n",
      "#8 Training loss: 0.6436 training_acc: 0.6302 val_loss: 0.6238 val_acc: 0.6423\n",
      "#9 Training loss: 0.8872 training_acc: 0.6568 val_loss: 0.0318 val_acc: 0.9911\n",
      "#10 Training loss: 0.0196 training_acc: 0.9955 val_loss: 0.0213 val_acc: 0.9921\n",
      "#0 Training loss: 0.0355 training_acc: 0.9883 val_loss: 0.0011 val_acc: 0.9998\n",
      "#1 Training loss: 0.0009 training_acc: 0.9998 val_loss: 0.0007 val_acc: 0.9999\n",
      "#2 Training loss: 0.0005 training_acc: 0.9999 val_loss: 0.0006 val_acc: 0.9999\n",
      "#3 Training loss: 0.0008 training_acc: 0.9999 val_loss: 0.0004 val_acc: 0.9999\n",
      "#4 Training loss: 0.0006 training_acc: 0.9999 val_loss: 0.0004 val_acc: 0.9999\n",
      "#5 Training loss: 0.0013 training_acc: 0.9998 val_loss: 0.0016 val_acc: 0.9999\n",
      "#6 Training loss: 0.0009 training_acc: 0.9998 val_loss: 0.0022 val_acc: 0.9999\n",
      "#7 Training loss: 0.0005 training_acc: 0.9999 val_loss: 0.0020 val_acc: 0.9998\n",
      "#8 Training loss: 0.0010 training_acc: 0.9998 val_loss: 0.0021 val_acc: 0.9999\n",
      "#9 Training loss: 0.0010 training_acc: 0.9999 val_loss: 0.0003 val_acc: 1.0000\n",
      "#10 Training loss: 0.0014 training_acc: 0.9999 val_loss: 0.0013 val_acc: 0.9999\n"
     ]
    }
   ],
   "source": [
    "results = df_hyperparams()\n",
    "\n",
    "progress_bar = tqdm(list(product(embedding_dim, rnn_hidden_size, lr)))\n",
    "for ed, rhs, lrv in progress_bar:\n",
    "    start_time = time()\n",
    "\n",
    "    model = RNN(\n",
    "      rnn_cls=nn.RNN,\n",
    "      num_embeddings=vocab.vocab_len,\n",
    "      embedding_dim=ed,\n",
    "      rnn_hidden_size=rhs,\n",
    "      vector_size=vocab.max_seq_len,\n",
    "      num_classes=n_classes,\n",
    "    )\n",
    "    criterion = nn.CrossEntropyLoss()\n",
    "    optimizer = optim.Adam(model.parameters(), lr=lrv)\n",
    "\n",
    "    params_num = sum(p.numel() for p in model.parameters())\n",
    "\n",
    "    train_losses, test_losses, accuracy = hard_training(model, criterion, optimizer)\n",
    "\n",
    "    total_time = (time() - start_time) / 60\n",
    "\n",
    "    results = pd.concat((results, df_hyperparams(\n",
    "        ed, rhs, lrv, total_time, params_num, accuracy[-1], \n",
    "        train_losses, test_losses\n",
    "    )), ignore_index=True)"
   ]
  },
  {
   "cell_type": "code",
   "execution_count": 24,
   "id": "RD-WC20jiQG0",
   "metadata": {
    "id": "RD-WC20jiQG0"
   },
   "outputs": [
    {
     "data": {
      "text/html": [
       "<div>\n",
       "<style scoped>\n",
       "    .dataframe tbody tr th:only-of-type {\n",
       "        vertical-align: middle;\n",
       "    }\n",
       "\n",
       "    .dataframe tbody tr th {\n",
       "        vertical-align: top;\n",
       "    }\n",
       "\n",
       "    .dataframe thead th {\n",
       "        text-align: right;\n",
       "    }\n",
       "</style>\n",
       "<table border=\"1\" class=\"dataframe\">\n",
       "  <thead>\n",
       "    <tr style=\"text-align: right;\">\n",
       "      <th></th>\n",
       "      <th>embedding_dim</th>\n",
       "      <th>rnn_hidden_size</th>\n",
       "      <th>learning rate</th>\n",
       "      <th>time</th>\n",
       "      <th>params num</th>\n",
       "      <th>accuracy</th>\n",
       "      <th>train_losses</th>\n",
       "      <th>test_losses</th>\n",
       "    </tr>\n",
       "  </thead>\n",
       "  <tbody>\n",
       "    <tr>\n",
       "      <th>5</th>\n",
       "      <td>100</td>\n",
       "      <td>64</td>\n",
       "      <td>0.0005</td>\n",
       "      <td>25.060472</td>\n",
       "      <td>3633931</td>\n",
       "      <td>0.999961</td>\n",
       "      <td>[2352697.0, 2365766.25, 2365822.5, 2365869.75,...</td>\n",
       "      <td>[521431.8125, 521285.0625, 521307.34375, 52131...</td>\n",
       "    </tr>\n",
       "    <tr>\n",
       "      <th>7</th>\n",
       "      <td>100</td>\n",
       "      <td>128</td>\n",
       "      <td>0.0005</td>\n",
       "      <td>65.976469</td>\n",
       "      <td>7257227</td>\n",
       "      <td>0.999922</td>\n",
       "      <td>[2355796.5, 2365778.0, 2365855.75, 2365887.0, ...</td>\n",
       "      <td>[521352.875, 521307.375, 521265.8125, 521297.1...</td>\n",
       "    </tr>\n",
       "    <tr>\n",
       "      <th>1</th>\n",
       "      <td>1</td>\n",
       "      <td>64</td>\n",
       "      <td>0.0005</td>\n",
       "      <td>32.995713</td>\n",
       "      <td>3609973</td>\n",
       "      <td>0.999902</td>\n",
       "      <td>[2238373.5, 2361670.25, 2364398.5, 2365193.5, ...</td>\n",
       "      <td>[520037.25, 520989.375, 520992.3125, 521214.15...</td>\n",
       "    </tr>\n",
       "    <tr>\n",
       "      <th>4</th>\n",
       "      <td>100</td>\n",
       "      <td>64</td>\n",
       "      <td>0.0015</td>\n",
       "      <td>42.558241</td>\n",
       "      <td>3633931</td>\n",
       "      <td>0.999902</td>\n",
       "      <td>[2362909.25, 2365810.75, 2366070.25, 2366016.0...</td>\n",
       "      <td>[521298.1875, 521296.21875, 521322.5, 521383.0...</td>\n",
       "    </tr>\n",
       "    <tr>\n",
       "      <th>3</th>\n",
       "      <td>1</td>\n",
       "      <td>128</td>\n",
       "      <td>0.0005</td>\n",
       "      <td>67.037227</td>\n",
       "      <td>7226933</td>\n",
       "      <td>0.999785</td>\n",
       "      <td>[2251448.0, 2360166.25, 2364052.25, 2365022.0,...</td>\n",
       "      <td>[518915.1875, 520711.90625, 521133.0625, 52112...</td>\n",
       "    </tr>\n",
       "    <tr>\n",
       "      <th>0</th>\n",
       "      <td>1</td>\n",
       "      <td>64</td>\n",
       "      <td>0.0015</td>\n",
       "      <td>38.096269</td>\n",
       "      <td>3609973</td>\n",
       "      <td>0.999277</td>\n",
       "      <td>[2307901.0, 2362789.25, 2364880.25, 2365438.0,...</td>\n",
       "      <td>[520592.4375, 521097.6875, 521084.53125, 52125...</td>\n",
       "    </tr>\n",
       "    <tr>\n",
       "      <th>6</th>\n",
       "      <td>100</td>\n",
       "      <td>128</td>\n",
       "      <td>0.0015</td>\n",
       "      <td>77.059501</td>\n",
       "      <td>7257227</td>\n",
       "      <td>0.99205</td>\n",
       "      <td>[2360679.75, 2367368.5, 2366233.5, 2358368.0, ...</td>\n",
       "      <td>[521266.8125, 521732.84375, 521943.375, 514701...</td>\n",
       "    </tr>\n",
       "    <tr>\n",
       "      <th>2</th>\n",
       "      <td>1</td>\n",
       "      <td>128</td>\n",
       "      <td>0.0015</td>\n",
       "      <td>68.921962</td>\n",
       "      <td>7226933</td>\n",
       "      <td>0.354058</td>\n",
       "      <td>[2321760.5, 2364797.75, 2365979.0, 1704041.375...</td>\n",
       "      <td>[520759.4375, 522145.1875, 520895.03125, 2948....</td>\n",
       "    </tr>\n",
       "  </tbody>\n",
       "</table>\n",
       "</div>"
      ],
      "text/plain": [
       "  embedding_dim rnn_hidden_size learning rate       time params num  accuracy  \\\n",
       "5           100              64        0.0005  25.060472    3633931  0.999961   \n",
       "7           100             128        0.0005  65.976469    7257227  0.999922   \n",
       "1             1              64        0.0005  32.995713    3609973  0.999902   \n",
       "4           100              64        0.0015  42.558241    3633931  0.999902   \n",
       "3             1             128        0.0005  67.037227    7226933  0.999785   \n",
       "0             1              64        0.0015  38.096269    3609973  0.999277   \n",
       "6           100             128        0.0015  77.059501    7257227   0.99205   \n",
       "2             1             128        0.0015  68.921962    7226933  0.354058   \n",
       "\n",
       "                                        train_losses  \\\n",
       "5  [2352697.0, 2365766.25, 2365822.5, 2365869.75,...   \n",
       "7  [2355796.5, 2365778.0, 2365855.75, 2365887.0, ...   \n",
       "1  [2238373.5, 2361670.25, 2364398.5, 2365193.5, ...   \n",
       "4  [2362909.25, 2365810.75, 2366070.25, 2366016.0...   \n",
       "3  [2251448.0, 2360166.25, 2364052.25, 2365022.0,...   \n",
       "0  [2307901.0, 2362789.25, 2364880.25, 2365438.0,...   \n",
       "6  [2360679.75, 2367368.5, 2366233.5, 2358368.0, ...   \n",
       "2  [2321760.5, 2364797.75, 2365979.0, 1704041.375...   \n",
       "\n",
       "                                         test_losses  \n",
       "5  [521431.8125, 521285.0625, 521307.34375, 52131...  \n",
       "7  [521352.875, 521307.375, 521265.8125, 521297.1...  \n",
       "1  [520037.25, 520989.375, 520992.3125, 521214.15...  \n",
       "4  [521298.1875, 521296.21875, 521322.5, 521383.0...  \n",
       "3  [518915.1875, 520711.90625, 521133.0625, 52112...  \n",
       "0  [520592.4375, 521097.6875, 521084.53125, 52125...  \n",
       "6  [521266.8125, 521732.84375, 521943.375, 514701...  \n",
       "2  [520759.4375, 522145.1875, 520895.03125, 2948....  "
      ]
     },
     "execution_count": 24,
     "metadata": {},
     "output_type": "execute_result"
    }
   ],
   "source": [
    "results.sort_values(\"accuracy\", ascending=False)"
   ]
  },
  {
   "cell_type": "code",
   "execution_count": null,
   "id": "LiY1VbpjqKnm",
   "metadata": {
    "id": "LiY1VbpjqKnm"
   },
   "outputs": [],
   "source": [
    "torch.manual_seed(0)\n",
    "\n",
    "model = RNN(\n",
    "    rnn_cls=nn.RNN,\n",
    "    num_embeddings=vocab.vocab_len,\n",
    "    embedding_dim=100,\n",
    "    rnn_hidden_size=64,\n",
    "    vector_size=vocab.max_seq_len,\n",
    "    num_classes=n_classes,\n",
    ")\n",
    "\n",
    "criterion = nn.CrossEntropyLoss()\n",
    "optimizer = optim.Adam(model.parameters(), lr=0.0005)"
   ]
  },
  {
   "cell_type": "code",
   "execution_count": null,
   "id": "XvUJmS-VqMSj",
   "metadata": {
    "colab": {
     "base_uri": "https://localhost:8080/"
    },
    "id": "XvUJmS-VqMSj",
    "outputId": "af3f140e-b7b1-4bdd-93f9-9bd672aca62f"
   },
   "outputs": [
    {
     "name": "stdout",
     "output_type": "stream",
     "text": [
      "#0 Training loss: 0.0227 training_acc: 0.9919 val_loss: 0.0025 val_acc: 0.9998\n",
      "#1 Training loss: 0.0022 training_acc: 0.9995 val_loss: 0.0009 val_acc: 0.9999\n",
      "#2 Training loss: 0.0003 training_acc: 1.0000 val_loss: 0.0008 val_acc: 0.9999\n",
      "#3 Training loss: 0.0234 training_acc: 0.9986 val_loss: 0.0068 val_acc: 0.9996\n",
      "#4 Training loss: 0.0008 training_acc: 0.9999 val_loss: 0.0118 val_acc: 0.9997\n",
      "#5 Training loss: 0.0024 training_acc: 0.9998 val_loss: 0.0050 val_acc: 0.9996\n",
      "#6 Training loss: 0.0010 training_acc: 0.9998 val_loss: 0.0044 val_acc: 0.9999\n",
      "#7 Training loss: 0.0013 training_acc: 0.9998 val_loss: 0.0042 val_acc: 0.9999\n",
      "#8 Training loss: 0.0980 training_acc: 0.9980 val_loss: 0.0067 val_acc: 0.9998\n",
      "#9 Training loss: 0.0010 training_acc: 0.9999 val_loss: 0.0036 val_acc: 0.9999\n",
      "#10 Training loss: 0.0009 training_acc: 1.0000 val_loss: 0.0030 val_acc: 0.9999\n",
      "CPU times: user 1h 16min 4s, sys: 6.18 s, total: 1h 16min 10s\n",
      "Wall time: 1h 16min 33s\n"
     ]
    }
   ],
   "source": [
    "%%time\n",
    "\n",
    "hard_training(model, criterion, optimizer)"
   ]
  },
  {
   "cell_type": "code",
   "execution_count": null,
   "id": "x8HR1jvNr6Hf",
   "metadata": {
    "colab": {
     "base_uri": "https://localhost:8080/"
    },
    "id": "x8HR1jvNr6Hf",
    "outputId": "e0366c10-680c-46a8-bfb3-c4f16253918b"
   },
   "outputs": [
    {
     "name": "stdout",
     "output_type": "stream",
     "text": [
      "              precision    recall  f1-score   support\n",
      "\n",
      "         0.0       1.00      1.00      1.00     18009\n",
      "         1.0       1.00      1.00      1.00     16557\n",
      "         2.0       1.00      1.00      1.00     16629\n",
      "\n",
      "    accuracy                           1.00     51195\n",
      "   macro avg       1.00      1.00      1.00     51195\n",
      "weighted avg       1.00      1.00      1.00     51195\n",
      "\n"
     ]
    }
   ],
   "source": [
    "GloP_boB(model)"
   ]
  },
  {
   "cell_type": "code",
   "execution_count": null,
   "id": "kEj1roxpCcfx",
   "metadata": {
    "id": "kEj1roxpCcfx"
   },
   "outputs": [],
   "source": [
    "def test_password(passowrd):\n",
    "    x = train_dataset.vectorize(passowrd).unsqueeze(0)\n",
    "    predictions = model(x).argmax(dim=1).cpu().detach()\n",
    "    print(class_encoder.inverse_transform(predictions))"
   ]
  },
  {
   "cell_type": "code",
   "execution_count": null,
   "id": "y3rolnE4Ccfy",
   "metadata": {
    "colab": {
     "base_uri": "https://localhost:8080/"
    },
    "id": "y3rolnE4Ccfy",
    "outputId": "17636b5e-a2eb-4d17-e0fd-c7ec4013b8cb"
   },
   "outputs": [
    {
     "name": "stdout",
     "output_type": "stream",
     "text": [
      "[0]\n",
      "[0]\n",
      "[1]\n",
      "[1]\n",
      "[1]\n",
      "[2]\n",
      "[2]\n"
     ]
    }
   ],
   "source": [
    "for password in (\"ok>bdk\", \"12kjl!\", \"password\", \"123123123\", \"abcabcabcabc\", '!@GDS9asf!@(ds092', \"juanpaganini588@gmail.com\"):\n",
    "    test_password(password)"
   ]
  },
  {
   "cell_type": "markdown",
   "id": "YwT-3AV5QUBK",
   "metadata": {
    "id": "YwT-3AV5QUBK"
   },
   "source": [
    "## Модель - LSTM"
   ]
  },
  {
   "cell_type": "code",
   "execution_count": null,
   "id": "7erXfaaRQlTk",
   "metadata": {
    "id": "7erXfaaRQlTk"
   },
   "outputs": [],
   "source": [
    "torch.manual_seed(0)\n",
    "\n",
    "model = RNN(\n",
    "    rnn_cls=nn.LSTM,\n",
    "    num_embeddings=vocab.vocab_len,\n",
    "    embedding_dim=100,\n",
    "    rnn_hidden_size=64,\n",
    "    vector_size=vocab.max_seq_len,\n",
    "    num_classes=n_classes,\n",
    ")\n",
    "\n",
    "criterion = nn.CrossEntropyLoss()\n",
    "optimizer = optim.Adam(model.parameters(), lr=0.0005)"
   ]
  },
  {
   "cell_type": "code",
   "execution_count": null,
   "id": "_kHmgvp0Qoje",
   "metadata": {
    "colab": {
     "base_uri": "https://localhost:8080/"
    },
    "id": "_kHmgvp0Qoje",
    "outputId": "5ef14f6d-1bf9-482d-a6ea-0d06fe590310"
   },
   "outputs": [
    {
     "name": "stdout",
     "output_type": "stream",
     "text": [
      "#0 Training loss: 0.0207 training_acc: 0.9919 val_loss: 0.0007 val_acc: 0.9999\n",
      "#1 Training loss: 0.0007 training_acc: 0.9999 val_loss: 0.0047 val_acc: 0.9997\n",
      "#2 Training loss: 0.0008 training_acc: 0.9999 val_loss: 0.0020 val_acc: 0.9997\n",
      "#3 Training loss: 0.0006 training_acc: 0.9999 val_loss: 0.0017 val_acc: 0.9999\n",
      "#4 Training loss: 0.0010 training_acc: 0.9999 val_loss: 0.0033 val_acc: 0.9998\n",
      "#5 Training loss: 0.0005 training_acc: 0.9999 val_loss: 0.0039 val_acc: 0.9999\n",
      "#6 Training loss: 0.0006 training_acc: 0.9999 val_loss: 0.0015 val_acc: 0.9999\n",
      "#7 Training loss: 0.0008 training_acc: 0.9999 val_loss: 0.0014 val_acc: 0.9999\n",
      "#8 Training loss: 0.0001 training_acc: 1.0000 val_loss: 0.0021 val_acc: 0.9999\n",
      "#9 Training loss: 0.0001 training_acc: 1.0000 val_loss: 0.0016 val_acc: 0.9999\n",
      "#10 Training loss: 0.0006 training_acc: 0.9999 val_loss: 0.0021 val_acc: 0.9999\n",
      "CPU times: user 1h 52min 10s, sys: 24min 6s, total: 2h 16min 16s\n",
      "Wall time: 2h 16min 48s\n"
     ]
    }
   ],
   "source": [
    "%%time\n",
    "\n",
    "hard_training(model, criterion, optimizer)"
   ]
  },
  {
   "cell_type": "code",
   "execution_count": null,
   "id": "6NwOSW6C-Rk0",
   "metadata": {
    "colab": {
     "base_uri": "https://localhost:8080/"
    },
    "id": "6NwOSW6C-Rk0",
    "outputId": "c44a94f2-ff13-42b4-ea84-7475f31e09c5"
   },
   "outputs": [
    {
     "name": "stdout",
     "output_type": "stream",
     "text": [
      "              precision    recall  f1-score   support\n",
      "\n",
      "         0.0       1.00      1.00      1.00     18009\n",
      "         1.0       1.00      1.00      1.00     16557\n",
      "         2.0       1.00      1.00      1.00     16629\n",
      "\n",
      "    accuracy                           1.00     51195\n",
      "   macro avg       1.00      1.00      1.00     51195\n",
      "weighted avg       1.00      1.00      1.00     51195\n",
      "\n"
     ]
    }
   ],
   "source": [
    "GloP_boB(model)"
   ]
  },
  {
   "cell_type": "code",
   "execution_count": null,
   "id": "uFyU1qgOSq-P",
   "metadata": {
    "id": "uFyU1qgOSq-P"
   },
   "outputs": [],
   "source": [
    "def test_password(passowrd):\n",
    "    x = train_dataset.vectorize(passowrd).unsqueeze(0)\n",
    "    predictions = model(x).argmax(dim=1).cpu().detach()\n",
    "    print(class_encoder.inverse_transform(predictions))"
   ]
  },
  {
   "cell_type": "code",
   "execution_count": null,
   "id": "FM_UZCIhSq-U",
   "metadata": {
    "colab": {
     "base_uri": "https://localhost:8080/"
    },
    "id": "FM_UZCIhSq-U",
    "outputId": "2874fea9-1253-4880-b847-633bcda92e12"
   },
   "outputs": [
    {
     "name": "stdout",
     "output_type": "stream",
     "text": [
      "[0]\n",
      "[0]\n",
      "[1]\n",
      "[1]\n",
      "[1]\n",
      "[2]\n",
      "[2]\n"
     ]
    }
   ],
   "source": [
    "for password in (\"ok>bdk\", \"12kjl!\", \"password\", \"123123123\", \"abcabcabcabc\", '!@GDS9asf!@(ds092', \"juanpaganini588@gmail.com\"):\n",
    "    test_password(password)"
   ]
  },
  {
   "cell_type": "markdown",
   "id": "mf4fTxwSo_ba",
   "metadata": {
    "id": "mf4fTxwSo_ba"
   },
   "source": [
    "## Модель - GRU"
   ]
  },
  {
   "cell_type": "code",
   "execution_count": null,
   "id": "yriUFX-AlHQE",
   "metadata": {
    "id": "yriUFX-AlHQE"
   },
   "outputs": [],
   "source": [
    "torch.manual_seed(0)\n",
    "\n",
    "model = RNN(\n",
    "    rnn_cls=nn.GRU,\n",
    "    num_embeddings=vocab.vocab_len,\n",
    "    embedding_dim=100,\n",
    "    rnn_hidden_size=64,\n",
    "    vector_size=vocab.max_seq_len,\n",
    "    num_classes=n_classes,\n",
    ")\n",
    "\n",
    "criterion = nn.CrossEntropyLoss()\n",
    "optimizer = optim.Adam(model.parameters(), lr=0.0005)"
   ]
  },
  {
   "cell_type": "code",
   "execution_count": null,
   "id": "uOQJQZbylX0w",
   "metadata": {
    "colab": {
     "base_uri": "https://localhost:8080/"
    },
    "id": "uOQJQZbylX0w",
    "outputId": "0d084fe3-a9cc-4f0c-e5af-5fa82b10d85b"
   },
   "outputs": [
    {
     "name": "stdout",
     "output_type": "stream",
     "text": [
      "#0 Training loss: 0.0229 training_acc: 0.9915 val_loss: 0.0014 val_acc: 0.9997\n",
      "#1 Training loss: 0.0005 training_acc: 0.9999 val_loss: 0.0007 val_acc: 0.9999\n",
      "#2 Training loss: 0.0020 training_acc: 0.9996 val_loss: 0.0031 val_acc: 0.9996\n",
      "#3 Training loss: 0.0009 training_acc: 0.9999 val_loss: 0.0023 val_acc: 0.9999\n",
      "#4 Training loss: 0.0012 training_acc: 0.9998 val_loss: 0.0044 val_acc: 0.9998\n",
      "#5 Training loss: 0.0014 training_acc: 0.9999 val_loss: 0.0028 val_acc: 0.9999\n",
      "#6 Training loss: 0.0013 training_acc: 0.9999 val_loss: 0.0021 val_acc: 0.9999\n",
      "#7 Training loss: 0.0007 training_acc: 0.9999 val_loss: 0.0034 val_acc: 0.9999\n",
      "#8 Training loss: 0.0004 training_acc: 0.9999 val_loss: 0.0040 val_acc: 0.9999\n",
      "#9 Training loss: 0.0010 training_acc: 0.9999 val_loss: 0.0066 val_acc: 0.9999\n",
      "#10 Training loss: 0.0010 training_acc: 0.9999 val_loss: 0.0030 val_acc: 1.0000\n",
      "CPU times: user 2h 8min 15s, sys: 10 s, total: 2h 8min 25s\n",
      "Wall time: 2h 8min 49s\n"
     ]
    }
   ],
   "source": [
    "%%time\n",
    "\n",
    "hard_training(model, criterion, optimizer)"
   ]
  },
  {
   "cell_type": "code",
   "execution_count": null,
   "id": "KWcvj-ks-Q9L",
   "metadata": {
    "colab": {
     "base_uri": "https://localhost:8080/"
    },
    "id": "KWcvj-ks-Q9L",
    "outputId": "3db614d9-db46-4754-e570-57350c6245cb"
   },
   "outputs": [
    {
     "name": "stdout",
     "output_type": "stream",
     "text": [
      "              precision    recall  f1-score   support\n",
      "\n",
      "         0.0       1.00      1.00      1.00     18009\n",
      "         1.0       1.00      1.00      1.00     16557\n",
      "         2.0       1.00      1.00      1.00     16629\n",
      "\n",
      "    accuracy                           1.00     51195\n",
      "   macro avg       1.00      1.00      1.00     51195\n",
      "weighted avg       1.00      1.00      1.00     51195\n",
      "\n"
     ]
    }
   ],
   "source": [
    "GloP_boB(model)"
   ]
  },
  {
   "cell_type": "code",
   "execution_count": null,
   "id": "5h5zR5wClw3U",
   "metadata": {
    "id": "5h5zR5wClw3U"
   },
   "outputs": [],
   "source": [
    "def test_password(passowrd):\n",
    "    x = train_dataset.vectorize(passowrd).unsqueeze(0)\n",
    "    predictions = model(x).argmax(dim=1).cpu().detach()\n",
    "    print(class_encoder.inverse_transform(predictions))"
   ]
  },
  {
   "cell_type": "code",
   "execution_count": null,
   "id": "LRlHn4YHlw3U",
   "metadata": {
    "colab": {
     "base_uri": "https://localhost:8080/"
    },
    "id": "LRlHn4YHlw3U",
    "outputId": "bd9cca6e-cea8-44db-cd82-503d38c61b44"
   },
   "outputs": [
    {
     "name": "stdout",
     "output_type": "stream",
     "text": [
      "[0]\n",
      "[0]\n",
      "[1]\n",
      "[1]\n",
      "[1]\n",
      "[2]\n",
      "[2]\n"
     ]
    }
   ],
   "source": [
    "for password in (\"ok>bdk\", \"12kjl!\", \"password\", \"123123123\", \"abcabcabcabc\", '!@GDS9asf!@(ds092', \"juanpaganini588@gmail.com\"):\n",
    "    test_password(password)"
   ]
  },
  {
   "cell_type": "markdown",
   "id": "qx7qXcqOjWJY",
   "metadata": {
    "id": "qx7qXcqOjWJY"
   },
   "source": [
    "## Результаты"
   ]
  },
  {
   "cell_type": "code",
   "execution_count": null,
   "id": "bynebTZXio36",
   "metadata": {
    "colab": {
     "base_uri": "https://localhost:8080/",
     "height": 175
    },
    "id": "bynebTZXio36",
    "outputId": "05279275-1140-4ace-f57e-c5c003d85486"
   },
   "outputs": [
    {
     "data": {
      "text/html": [
       "\n",
       "  <div id=\"df-877dcc71-ca2d-4de5-9ec7-7ead7a3c1e4c\">\n",
       "    <div class=\"colab-df-container\">\n",
       "      <div>\n",
       "<style scoped>\n",
       "    .dataframe tbody tr th:only-of-type {\n",
       "        vertical-align: middle;\n",
       "    }\n",
       "\n",
       "    .dataframe tbody tr th {\n",
       "        vertical-align: top;\n",
       "    }\n",
       "\n",
       "    .dataframe thead th {\n",
       "        text-align: right;\n",
       "    }\n",
       "</style>\n",
       "<table border=\"1\" class=\"dataframe\">\n",
       "  <thead>\n",
       "    <tr style=\"text-align: right;\">\n",
       "      <th></th>\n",
       "      <th>Точность</th>\n",
       "      <th>Время(мин)</th>\n",
       "    </tr>\n",
       "  </thead>\n",
       "  <tbody>\n",
       "    <tr>\n",
       "      <th>CNN</th>\n",
       "      <td>100%</td>\n",
       "      <td>135.9</td>\n",
       "    </tr>\n",
       "    <tr>\n",
       "      <th>RNN</th>\n",
       "      <td>100%</td>\n",
       "      <td>76.5</td>\n",
       "    </tr>\n",
       "    <tr>\n",
       "      <th>LSTM</th>\n",
       "      <td>100%</td>\n",
       "      <td>136.8</td>\n",
       "    </tr>\n",
       "    <tr>\n",
       "      <th>GRU</th>\n",
       "      <td>100%</td>\n",
       "      <td>128.8</td>\n",
       "    </tr>\n",
       "  </tbody>\n",
       "</table>\n",
       "</div>\n",
       "      <button class=\"colab-df-convert\" onclick=\"convertToInteractive('df-877dcc71-ca2d-4de5-9ec7-7ead7a3c1e4c')\"\n",
       "              title=\"Convert this dataframe to an interactive table.\"\n",
       "              style=\"display:none;\">\n",
       "        \n",
       "  <svg xmlns=\"http://www.w3.org/2000/svg\" height=\"24px\"viewBox=\"0 0 24 24\"\n",
       "       width=\"24px\">\n",
       "    <path d=\"M0 0h24v24H0V0z\" fill=\"none\"/>\n",
       "    <path d=\"M18.56 5.44l.94 2.06.94-2.06 2.06-.94-2.06-.94-.94-2.06-.94 2.06-2.06.94zm-11 1L8.5 8.5l.94-2.06 2.06-.94-2.06-.94L8.5 2.5l-.94 2.06-2.06.94zm10 10l.94 2.06.94-2.06 2.06-.94-2.06-.94-.94-2.06-.94 2.06-2.06.94z\"/><path d=\"M17.41 7.96l-1.37-1.37c-.4-.4-.92-.59-1.43-.59-.52 0-1.04.2-1.43.59L10.3 9.45l-7.72 7.72c-.78.78-.78 2.05 0 2.83L4 21.41c.39.39.9.59 1.41.59.51 0 1.02-.2 1.41-.59l7.78-7.78 2.81-2.81c.8-.78.8-2.07 0-2.86zM5.41 20L4 18.59l7.72-7.72 1.47 1.35L5.41 20z\"/>\n",
       "  </svg>\n",
       "      </button>\n",
       "      \n",
       "  <style>\n",
       "    .colab-df-container {\n",
       "      display:flex;\n",
       "      flex-wrap:wrap;\n",
       "      gap: 12px;\n",
       "    }\n",
       "\n",
       "    .colab-df-convert {\n",
       "      background-color: #E8F0FE;\n",
       "      border: none;\n",
       "      border-radius: 50%;\n",
       "      cursor: pointer;\n",
       "      display: none;\n",
       "      fill: #1967D2;\n",
       "      height: 32px;\n",
       "      padding: 0 0 0 0;\n",
       "      width: 32px;\n",
       "    }\n",
       "\n",
       "    .colab-df-convert:hover {\n",
       "      background-color: #E2EBFA;\n",
       "      box-shadow: 0px 1px 2px rgba(60, 64, 67, 0.3), 0px 1px 3px 1px rgba(60, 64, 67, 0.15);\n",
       "      fill: #174EA6;\n",
       "    }\n",
       "\n",
       "    [theme=dark] .colab-df-convert {\n",
       "      background-color: #3B4455;\n",
       "      fill: #D2E3FC;\n",
       "    }\n",
       "\n",
       "    [theme=dark] .colab-df-convert:hover {\n",
       "      background-color: #434B5C;\n",
       "      box-shadow: 0px 1px 3px 1px rgba(0, 0, 0, 0.15);\n",
       "      filter: drop-shadow(0px 1px 2px rgba(0, 0, 0, 0.3));\n",
       "      fill: #FFFFFF;\n",
       "    }\n",
       "  </style>\n",
       "\n",
       "      <script>\n",
       "        const buttonEl =\n",
       "          document.querySelector('#df-877dcc71-ca2d-4de5-9ec7-7ead7a3c1e4c button.colab-df-convert');\n",
       "        buttonEl.style.display =\n",
       "          google.colab.kernel.accessAllowed ? 'block' : 'none';\n",
       "\n",
       "        async function convertToInteractive(key) {\n",
       "          const element = document.querySelector('#df-877dcc71-ca2d-4de5-9ec7-7ead7a3c1e4c');\n",
       "          const dataTable =\n",
       "            await google.colab.kernel.invokeFunction('convertToInteractive',\n",
       "                                                     [key], {});\n",
       "          if (!dataTable) return;\n",
       "\n",
       "          const docLinkHtml = 'Like what you see? Visit the ' +\n",
       "            '<a target=\"_blank\" href=https://colab.research.google.com/notebooks/data_table.ipynb>data table notebook</a>'\n",
       "            + ' to learn more about interactive tables.';\n",
       "          element.innerHTML = '';\n",
       "          dataTable['output_type'] = 'display_data';\n",
       "          await google.colab.output.renderOutput(dataTable, element);\n",
       "          const docLink = document.createElement('div');\n",
       "          docLink.innerHTML = docLinkHtml;\n",
       "          element.appendChild(docLink);\n",
       "        }\n",
       "      </script>\n",
       "    </div>\n",
       "  </div>\n",
       "  "
      ],
      "text/plain": [
       "     Точность Время(мин)\n",
       "CNN      100%      135.9\n",
       "RNN      100%       76.5\n",
       "LSTM     100%      136.8\n",
       "GRU      100%      128.8"
      ]
     },
     "execution_count": 54,
     "metadata": {},
     "output_type": "execute_result"
    }
   ],
   "source": [
    "result_df = pd.DataFrame(data=[['100%', '135.9'], ['100%', '76.5'], ['100%', '136.8'], ['100%', '128.8']], index=[\"CNN\", 'RNN', 'LSTM', 'GRU'], columns=['Точность', 'Время(мин)'])\n",
    "result_df"
   ]
  },
  {
   "cell_type": "code",
   "execution_count": null,
   "id": "1DHsZ8eulUC6",
   "metadata": {
    "id": "1DHsZ8eulUC6"
   },
   "outputs": [],
   "source": [
    "result_df.to_csv('results.csv', encoding='utf-8')"
   ]
  }
 ],
 "metadata": {
  "accelerator": "GPU",
  "colab": {
   "collapsed_sections": [
    "ac2ec940"
   ],
   "provenance": []
  },
  "kernelspec": {
   "display_name": "Python 3 (ipykernel)",
   "language": "python",
   "name": "python3"
  },
  "language_info": {
   "codemirror_mode": {
    "name": "ipython",
    "version": 3
   },
   "file_extension": ".py",
   "mimetype": "text/x-python",
   "name": "python",
   "nbconvert_exporter": "python",
   "pygments_lexer": "ipython3",
   "version": "3.9.12"
  },
  "widgets": {
   "application/vnd.jupyter.widget-state+json": {
    "0eb19fda195c43649abdad62e14e45d4": {
     "model_module": "@jupyter-widgets/controls",
     "model_module_version": "1.5.0",
     "model_name": "FloatProgressModel",
     "state": {
      "_dom_classes": [],
      "_model_module": "@jupyter-widgets/controls",
      "_model_module_version": "1.5.0",
      "_model_name": "FloatProgressModel",
      "_view_count": null,
      "_view_module": "@jupyter-widgets/controls",
      "_view_module_version": "1.5.0",
      "_view_name": "ProgressView",
      "bar_style": "",
      "description": "",
      "description_tooltip": null,
      "layout": "IPY_MODEL_40e89990726f44bd9c82d4464c926517",
      "max": 8,
      "min": 0,
      "orientation": "horizontal",
      "style": "IPY_MODEL_55ccc82b39634a05b22e004d941176a0",
      "value": 2
     }
    },
    "0f2b819306a24c30a8b1ccfa76c69364": {
     "model_module": "@jupyter-widgets/controls",
     "model_module_version": "1.5.0",
     "model_name": "DescriptionStyleModel",
     "state": {
      "_model_module": "@jupyter-widgets/controls",
      "_model_module_version": "1.5.0",
      "_model_name": "DescriptionStyleModel",
      "_view_count": null,
      "_view_module": "@jupyter-widgets/base",
      "_view_module_version": "1.2.0",
      "_view_name": "StyleView",
      "description_width": ""
     }
    },
    "40e89990726f44bd9c82d4464c926517": {
     "model_module": "@jupyter-widgets/base",
     "model_module_version": "1.2.0",
     "model_name": "LayoutModel",
     "state": {
      "_model_module": "@jupyter-widgets/base",
      "_model_module_version": "1.2.0",
      "_model_name": "LayoutModel",
      "_view_count": null,
      "_view_module": "@jupyter-widgets/base",
      "_view_module_version": "1.2.0",
      "_view_name": "LayoutView",
      "align_content": null,
      "align_items": null,
      "align_self": null,
      "border": null,
      "bottom": null,
      "display": null,
      "flex": null,
      "flex_flow": null,
      "grid_area": null,
      "grid_auto_columns": null,
      "grid_auto_flow": null,
      "grid_auto_rows": null,
      "grid_column": null,
      "grid_gap": null,
      "grid_row": null,
      "grid_template_areas": null,
      "grid_template_columns": null,
      "grid_template_rows": null,
      "height": null,
      "justify_content": null,
      "justify_items": null,
      "left": null,
      "margin": null,
      "max_height": null,
      "max_width": null,
      "min_height": null,
      "min_width": null,
      "object_fit": null,
      "object_position": null,
      "order": null,
      "overflow": null,
      "overflow_x": null,
      "overflow_y": null,
      "padding": null,
      "right": null,
      "top": null,
      "visibility": null,
      "width": null
     }
    },
    "43482585cde6414baa4e056eae97aad7": {
     "model_module": "@jupyter-widgets/controls",
     "model_module_version": "1.5.0",
     "model_name": "HBoxModel",
     "state": {
      "_dom_classes": [],
      "_model_module": "@jupyter-widgets/controls",
      "_model_module_version": "1.5.0",
      "_model_name": "HBoxModel",
      "_view_count": null,
      "_view_module": "@jupyter-widgets/controls",
      "_view_module_version": "1.5.0",
      "_view_name": "HBoxView",
      "box_style": "",
      "children": [
       "IPY_MODEL_e8f7b8c6b46146519f7f9d64464552fd",
       "IPY_MODEL_0eb19fda195c43649abdad62e14e45d4",
       "IPY_MODEL_784367a40d644147b1d44505bab2e38d"
      ],
      "layout": "IPY_MODEL_8ac1df6612b84decb76db048a94ce27d"
     }
    },
    "55ccc82b39634a05b22e004d941176a0": {
     "model_module": "@jupyter-widgets/controls",
     "model_module_version": "1.5.0",
     "model_name": "ProgressStyleModel",
     "state": {
      "_model_module": "@jupyter-widgets/controls",
      "_model_module_version": "1.5.0",
      "_model_name": "ProgressStyleModel",
      "_view_count": null,
      "_view_module": "@jupyter-widgets/base",
      "_view_module_version": "1.2.0",
      "_view_name": "StyleView",
      "bar_color": null,
      "description_width": ""
     }
    },
    "784367a40d644147b1d44505bab2e38d": {
     "model_module": "@jupyter-widgets/controls",
     "model_module_version": "1.5.0",
     "model_name": "HTMLModel",
     "state": {
      "_dom_classes": [],
      "_model_module": "@jupyter-widgets/controls",
      "_model_module_version": "1.5.0",
      "_model_name": "HTMLModel",
      "_view_count": null,
      "_view_module": "@jupyter-widgets/controls",
      "_view_module_version": "1.5.0",
      "_view_name": "HTMLView",
      "description": "",
      "description_tooltip": null,
      "layout": "IPY_MODEL_aef7b65994f24358ae95bda5e934a443",
      "placeholder": "​",
      "style": "IPY_MODEL_0f2b819306a24c30a8b1ccfa76c69364",
      "value": " 2/8 [1:59:49&lt;6:04:53, 3648.91s/it]"
     }
    },
    "7d0e1930111e42d3bb2aabe6fbe388ef": {
     "model_module": "@jupyter-widgets/controls",
     "model_module_version": "1.5.0",
     "model_name": "DescriptionStyleModel",
     "state": {
      "_model_module": "@jupyter-widgets/controls",
      "_model_module_version": "1.5.0",
      "_model_name": "DescriptionStyleModel",
      "_view_count": null,
      "_view_module": "@jupyter-widgets/base",
      "_view_module_version": "1.2.0",
      "_view_name": "StyleView",
      "description_width": ""
     }
    },
    "8ac1df6612b84decb76db048a94ce27d": {
     "model_module": "@jupyter-widgets/base",
     "model_module_version": "1.2.0",
     "model_name": "LayoutModel",
     "state": {
      "_model_module": "@jupyter-widgets/base",
      "_model_module_version": "1.2.0",
      "_model_name": "LayoutModel",
      "_view_count": null,
      "_view_module": "@jupyter-widgets/base",
      "_view_module_version": "1.2.0",
      "_view_name": "LayoutView",
      "align_content": null,
      "align_items": null,
      "align_self": null,
      "border": null,
      "bottom": null,
      "display": null,
      "flex": null,
      "flex_flow": null,
      "grid_area": null,
      "grid_auto_columns": null,
      "grid_auto_flow": null,
      "grid_auto_rows": null,
      "grid_column": null,
      "grid_gap": null,
      "grid_row": null,
      "grid_template_areas": null,
      "grid_template_columns": null,
      "grid_template_rows": null,
      "height": null,
      "justify_content": null,
      "justify_items": null,
      "left": null,
      "margin": null,
      "max_height": null,
      "max_width": null,
      "min_height": null,
      "min_width": null,
      "object_fit": null,
      "object_position": null,
      "order": null,
      "overflow": null,
      "overflow_x": null,
      "overflow_y": null,
      "padding": null,
      "right": null,
      "top": null,
      "visibility": null,
      "width": null
     }
    },
    "aef7b65994f24358ae95bda5e934a443": {
     "model_module": "@jupyter-widgets/base",
     "model_module_version": "1.2.0",
     "model_name": "LayoutModel",
     "state": {
      "_model_module": "@jupyter-widgets/base",
      "_model_module_version": "1.2.0",
      "_model_name": "LayoutModel",
      "_view_count": null,
      "_view_module": "@jupyter-widgets/base",
      "_view_module_version": "1.2.0",
      "_view_name": "LayoutView",
      "align_content": null,
      "align_items": null,
      "align_self": null,
      "border": null,
      "bottom": null,
      "display": null,
      "flex": null,
      "flex_flow": null,
      "grid_area": null,
      "grid_auto_columns": null,
      "grid_auto_flow": null,
      "grid_auto_rows": null,
      "grid_column": null,
      "grid_gap": null,
      "grid_row": null,
      "grid_template_areas": null,
      "grid_template_columns": null,
      "grid_template_rows": null,
      "height": null,
      "justify_content": null,
      "justify_items": null,
      "left": null,
      "margin": null,
      "max_height": null,
      "max_width": null,
      "min_height": null,
      "min_width": null,
      "object_fit": null,
      "object_position": null,
      "order": null,
      "overflow": null,
      "overflow_x": null,
      "overflow_y": null,
      "padding": null,
      "right": null,
      "top": null,
      "visibility": null,
      "width": null
     }
    },
    "e8f7b8c6b46146519f7f9d64464552fd": {
     "model_module": "@jupyter-widgets/controls",
     "model_module_version": "1.5.0",
     "model_name": "HTMLModel",
     "state": {
      "_dom_classes": [],
      "_model_module": "@jupyter-widgets/controls",
      "_model_module_version": "1.5.0",
      "_model_name": "HTMLModel",
      "_view_count": null,
      "_view_module": "@jupyter-widgets/controls",
      "_view_module_version": "1.5.0",
      "_view_name": "HTMLView",
      "description": "",
      "description_tooltip": null,
      "layout": "IPY_MODEL_ea2e27eef5bc4ec9b7e4e2466a94ecc6",
      "placeholder": "​",
      "style": "IPY_MODEL_7d0e1930111e42d3bb2aabe6fbe388ef",
      "value": " 25%"
     }
    },
    "ea2e27eef5bc4ec9b7e4e2466a94ecc6": {
     "model_module": "@jupyter-widgets/base",
     "model_module_version": "1.2.0",
     "model_name": "LayoutModel",
     "state": {
      "_model_module": "@jupyter-widgets/base",
      "_model_module_version": "1.2.0",
      "_model_name": "LayoutModel",
      "_view_count": null,
      "_view_module": "@jupyter-widgets/base",
      "_view_module_version": "1.2.0",
      "_view_name": "LayoutView",
      "align_content": null,
      "align_items": null,
      "align_self": null,
      "border": null,
      "bottom": null,
      "display": null,
      "flex": null,
      "flex_flow": null,
      "grid_area": null,
      "grid_auto_columns": null,
      "grid_auto_flow": null,
      "grid_auto_rows": null,
      "grid_column": null,
      "grid_gap": null,
      "grid_row": null,
      "grid_template_areas": null,
      "grid_template_columns": null,
      "grid_template_rows": null,
      "height": null,
      "justify_content": null,
      "justify_items": null,
      "left": null,
      "margin": null,
      "max_height": null,
      "max_width": null,
      "min_height": null,
      "min_width": null,
      "object_fit": null,
      "object_position": null,
      "order": null,
      "overflow": null,
      "overflow_x": null,
      "overflow_y": null,
      "padding": null,
      "right": null,
      "top": null,
      "visibility": null,
      "width": null
     }
    }
   }
  }
 },
 "nbformat": 4,
 "nbformat_minor": 5
}
